{
  "cells": [
    {
      "cell_type": "markdown",
      "source": [
        "Predicting life time value for drivers based on historical behaviour data.\n",
        "By - Pramod Chavan\n",
        "\n"
      ],
      "metadata": {
        "id": "hHCRBNMz8znU"
      }
    },
    {
      "cell_type": "code",
      "execution_count": null,
      "metadata": {
        "id": "6mgssjFc8hNK"
      },
      "outputs": [],
      "source": [
        "import pandas as pd\n",
        "from datetime import datetime as dt, timedelta\n",
        "import numpy as np\n",
        "from sklearn.cluster import KMeans\n",
        "from sklearn.model_selection import train_test_split\n",
        "from sklearn.tree import DecisionTreeClassifier\n",
        "import matplotlib.pyplot as plt\n",
        "from pytz import timezone\n",
        "import pytz"
      ]
    },
    {
      "cell_type": "markdown",
      "metadata": {
        "id": "3EMzv59l8hNQ"
      },
      "source": [
        "# 1) Overview of datasets"
      ]
    },
    {
      "cell_type": "markdown",
      "metadata": {
        "id": "Gh_gxYHD8hNR"
      },
      "source": [
        "## a) driver_ids.csv dataset"
      ]
    },
    {
      "cell_type": "markdown",
      "source": [],
      "metadata": {
        "id": "MZUYFLLS8xIe"
      }
    },
    {
      "cell_type": "markdown",
      "source": [],
      "metadata": {
        "id": "5EORq1pe8wNY"
      }
    },
    {
      "cell_type": "code",
      "execution_count": null,
      "metadata": {
        "id": "KZQbFpEy8hNR",
        "outputId": "78239066-4ca2-4453-9741-ca7b6b5067e2"
      },
      "outputs": [
        {
          "name": "stdout",
          "output_type": "stream",
          "text": [
            "Driver_ids dataframe dimension: (937, 2)\n"
          ]
        }
      ],
      "source": [
        "df_driver_ids = pd.read_csv(\"C:\\Personal\\Jobs\\Lyft Data Science Assignment\\data\\driver_ids.csv\")\n",
        "print('Driver_ids dataframe dimension:', df_driver_ids.shape)"
      ]
    },
    {
      "cell_type": "code",
      "execution_count": null,
      "metadata": {
        "scrolled": true,
        "id": "_2vvitkx8hNS",
        "outputId": "377d6f34-78d0-48e5-829a-b34a519594bf"
      },
      "outputs": [
        {
          "data": {
            "text/html": [
              "<div>\n",
              "<style scoped>\n",
              "    .dataframe tbody tr th:only-of-type {\n",
              "        vertical-align: middle;\n",
              "    }\n",
              "\n",
              "    .dataframe tbody tr th {\n",
              "        vertical-align: top;\n",
              "    }\n",
              "\n",
              "    .dataframe thead th {\n",
              "        text-align: right;\n",
              "    }\n",
              "</style>\n",
              "<table border=\"1\" class=\"dataframe\">\n",
              "  <thead>\n",
              "    <tr style=\"text-align: right;\">\n",
              "      <th></th>\n",
              "      <th>driver_id</th>\n",
              "      <th>driver_onboard_date</th>\n",
              "    </tr>\n",
              "  </thead>\n",
              "  <tbody>\n",
              "    <tr>\n",
              "      <th>column_type</th>\n",
              "      <td>object</td>\n",
              "      <td>object</td>\n",
              "    </tr>\n",
              "    <tr>\n",
              "      <th>count_unique_value</th>\n",
              "      <td>937</td>\n",
              "      <td>49</td>\n",
              "    </tr>\n",
              "    <tr>\n",
              "      <th>min_value</th>\n",
              "      <td>002be0ffdc997bd5c50703158b7c2491</td>\n",
              "      <td>2016-03-28 00:00:00</td>\n",
              "    </tr>\n",
              "    <tr>\n",
              "      <th>max_value</th>\n",
              "      <td>ffff51a71f2f185ec5e97d59dbcd7a78</td>\n",
              "      <td>2016-05-15 00:00:00</td>\n",
              "    </tr>\n",
              "    <tr>\n",
              "      <th>null_values</th>\n",
              "      <td>0</td>\n",
              "      <td>0</td>\n",
              "    </tr>\n",
              "  </tbody>\n",
              "</table>\n",
              "</div>"
            ],
            "text/plain": [
              "                                           driver_id  driver_onboard_date\n",
              "column_type                                   object               object\n",
              "count_unique_value                               937                   49\n",
              "min_value           002be0ffdc997bd5c50703158b7c2491  2016-03-28 00:00:00\n",
              "max_value           ffff51a71f2f185ec5e97d59dbcd7a78  2016-05-15 00:00:00\n",
              "null_values                                        0                    0"
            ]
          },
          "execution_count": 3,
          "metadata": {},
          "output_type": "execute_result"
        }
      ],
      "source": [
        "df_info = pd.DataFrame(df_driver_ids.dtypes).T.rename(index={0:'column_type'})\n",
        "df_info = df_info.append(pd.DataFrame(df_driver_ids.nunique()).T.rename(index={0:'count_unique_value'}))\n",
        "df_info = df_info.append(pd.DataFrame(df_driver_ids.min()).T.rename(index={0:'min_value'}))\n",
        "df_info = df_info.append(pd.DataFrame(df_driver_ids.max()).T.rename(index={0:'max_value'}))\n",
        "df_info = df_info.append(pd.DataFrame(df_driver_ids.isnull().sum()).T.rename(index={0:'null_values'}))\n",
        "df_info"
      ]
    },
    {
      "cell_type": "markdown",
      "metadata": {
        "id": "GXFciVOa8hNT"
      },
      "source": [
        "Observations: <br>\n",
        "1. Contains drivers onboarding information <br>\n",
        "2. Unique value of 937 for driver_id indicates that we don't have duplicate onboarding information for drivers <br>\n",
        "3. We have driver's information on-boarded between 28th March 2016 and 15th May 2016 <br>\n",
        "4. There are no missing values for driver_ids and driver_onboard_date <br>"
      ]
    },
    {
      "cell_type": "markdown",
      "metadata": {
        "id": "XkCtduqv8hNT"
      },
      "source": [
        "## b) ride_ids.csv dataset"
      ]
    },
    {
      "cell_type": "code",
      "execution_count": null,
      "metadata": {
        "id": "wsykCYir8hNT",
        "outputId": "aa2834ae-7c3d-4d14-b7cb-2ffd3ee234ce"
      },
      "outputs": [
        {
          "name": "stdout",
          "output_type": "stream",
          "text": [
            "Rider_ids dataframe dimension: (193502, 5)\n"
          ]
        }
      ],
      "source": [
        "df_ride_ids = pd.read_csv(\"C:\\Personal\\Jobs\\Lyft Data Science Assignment\\data\\\\ride_ids.csv\")\n",
        "print('Rider_ids dataframe dimension:', df_ride_ids.shape)"
      ]
    },
    {
      "cell_type": "code",
      "execution_count": null,
      "metadata": {
        "scrolled": false,
        "id": "iCnjRfc08hNU",
        "outputId": "a388b860-1644-40c9-c352-cb450f216f49"
      },
      "outputs": [
        {
          "data": {
            "text/html": [
              "<div>\n",
              "<style scoped>\n",
              "    .dataframe tbody tr th:only-of-type {\n",
              "        vertical-align: middle;\n",
              "    }\n",
              "\n",
              "    .dataframe tbody tr th {\n",
              "        vertical-align: top;\n",
              "    }\n",
              "\n",
              "    .dataframe thead th {\n",
              "        text-align: right;\n",
              "    }\n",
              "</style>\n",
              "<table border=\"1\" class=\"dataframe\">\n",
              "  <thead>\n",
              "    <tr style=\"text-align: right;\">\n",
              "      <th></th>\n",
              "      <th>driver_id</th>\n",
              "      <th>ride_id</th>\n",
              "      <th>ride_distance</th>\n",
              "      <th>ride_duration</th>\n",
              "      <th>ride_prime_time</th>\n",
              "    </tr>\n",
              "  </thead>\n",
              "  <tbody>\n",
              "    <tr>\n",
              "      <th>column_type</th>\n",
              "      <td>object</td>\n",
              "      <td>object</td>\n",
              "      <td>int64</td>\n",
              "      <td>int64</td>\n",
              "      <td>int64</td>\n",
              "    </tr>\n",
              "    <tr>\n",
              "      <th>count_unique_value</th>\n",
              "      <td>937</td>\n",
              "      <td>193502</td>\n",
              "      <td>28259</td>\n",
              "      <td>4092</td>\n",
              "      <td>12</td>\n",
              "    </tr>\n",
              "    <tr>\n",
              "      <th>min_value</th>\n",
              "      <td>002be0ffdc997bd5c50703158b7c2491</td>\n",
              "      <td>00003037a262d9ee40e61b5c0718f7f0</td>\n",
              "      <td>-2</td>\n",
              "      <td>2</td>\n",
              "      <td>0</td>\n",
              "    </tr>\n",
              "    <tr>\n",
              "      <th>max_value</th>\n",
              "      <td>ffff51a71f2f185ec5e97d59dbcd7a78</td>\n",
              "      <td>ffffccd77f47a3de26dfed9a851464b4</td>\n",
              "      <td>724679</td>\n",
              "      <td>28204</td>\n",
              "      <td>500</td>\n",
              "    </tr>\n",
              "    <tr>\n",
              "      <th>null_values</th>\n",
              "      <td>0</td>\n",
              "      <td>0</td>\n",
              "      <td>0</td>\n",
              "      <td>0</td>\n",
              "      <td>0</td>\n",
              "    </tr>\n",
              "  </tbody>\n",
              "</table>\n",
              "</div>"
            ],
            "text/plain": [
              "                                           driver_id  \\\n",
              "column_type                                   object   \n",
              "count_unique_value                               937   \n",
              "min_value           002be0ffdc997bd5c50703158b7c2491   \n",
              "max_value           ffff51a71f2f185ec5e97d59dbcd7a78   \n",
              "null_values                                        0   \n",
              "\n",
              "                                             ride_id ride_distance  \\\n",
              "column_type                                   object         int64   \n",
              "count_unique_value                            193502         28259   \n",
              "min_value           00003037a262d9ee40e61b5c0718f7f0            -2   \n",
              "max_value           ffffccd77f47a3de26dfed9a851464b4        724679   \n",
              "null_values                                        0             0   \n",
              "\n",
              "                   ride_duration ride_prime_time  \n",
              "column_type                int64           int64  \n",
              "count_unique_value          4092              12  \n",
              "min_value                      2               0  \n",
              "max_value                  28204             500  \n",
              "null_values                    0               0  "
            ]
          },
          "execution_count": 5,
          "metadata": {},
          "output_type": "execute_result"
        }
      ],
      "source": [
        "df_info = pd.DataFrame(df_ride_ids.dtypes).T.rename(index={0:'column_type'})\n",
        "df_info = df_info.append(pd.DataFrame(df_ride_ids.nunique()).T.rename(index={0:'count_unique_value'}))\n",
        "df_info = df_info.append(pd.DataFrame(df_ride_ids.min()).T.rename(index={0:'min_value'}))\n",
        "df_info = df_info.append(pd.DataFrame(df_ride_ids.max()).T.rename(index={0:'max_value'}))\n",
        "df_info = df_info.append(pd.DataFrame(df_ride_ids.isnull().sum()).T.rename(index={0:'null_values'}))\n",
        "df_info"
      ]
    },
    {
      "cell_type": "markdown",
      "metadata": {
        "id": "uxJny7Oo8hNU"
      },
      "source": [
        "Observations: <br>\n",
        "1. Contains information for 193502 unique rides and 937 unique  drivers (same as driver ids)\n",
        "2. Negative value for ride_distance seems to be incorrect data. However we have only record so it has been deleted.\n",
        "3. No missing values present"
      ]
    },
    {
      "cell_type": "markdown",
      "metadata": {
        "id": "9C99ITaM8hNV"
      },
      "source": [
        "## c) ride_timestamps.csv dataset"
      ]
    },
    {
      "cell_type": "code",
      "execution_count": null,
      "metadata": {
        "id": "zayfRhpB8hNV",
        "outputId": "f52e23a3-b4d9-4b00-fd2f-040c323bc8cd"
      },
      "outputs": [
        {
          "name": "stdout",
          "output_type": "stream",
          "text": [
            "(970405, 3)\n"
          ]
        }
      ],
      "source": [
        "df_ride_timestamps = pd.read_csv(\"C:\\Personal\\Jobs\\Lyft Data Science Assignment\\data\\\\ride_timestamps.csv\")\n",
        "print(df_ride_timestamps.shape)"
      ]
    },
    {
      "cell_type": "code",
      "execution_count": null,
      "metadata": {
        "scrolled": true,
        "id": "b_ZKhQ2D8hNV",
        "outputId": "0f098c25-f6d9-4860-d69a-7a9554673f42"
      },
      "outputs": [
        {
          "data": {
            "text/html": [
              "<div>\n",
              "<style scoped>\n",
              "    .dataframe tbody tr th:only-of-type {\n",
              "        vertical-align: middle;\n",
              "    }\n",
              "\n",
              "    .dataframe tbody tr th {\n",
              "        vertical-align: top;\n",
              "    }\n",
              "\n",
              "    .dataframe thead th {\n",
              "        text-align: right;\n",
              "    }\n",
              "</style>\n",
              "<table border=\"1\" class=\"dataframe\">\n",
              "  <thead>\n",
              "    <tr style=\"text-align: right;\">\n",
              "      <th></th>\n",
              "      <th>ride_id</th>\n",
              "      <th>event</th>\n",
              "      <th>timestamp</th>\n",
              "    </tr>\n",
              "  </thead>\n",
              "  <tbody>\n",
              "    <tr>\n",
              "      <th>column_type</th>\n",
              "      <td>object</td>\n",
              "      <td>object</td>\n",
              "      <td>object</td>\n",
              "    </tr>\n",
              "    <tr>\n",
              "      <th>unique_value</th>\n",
              "      <td>194081</td>\n",
              "      <td>5</td>\n",
              "      <td>865826</td>\n",
              "    </tr>\n",
              "    <tr>\n",
              "      <th>null_values</th>\n",
              "      <td>0</td>\n",
              "      <td>0</td>\n",
              "      <td>1</td>\n",
              "    </tr>\n",
              "  </tbody>\n",
              "</table>\n",
              "</div>"
            ],
            "text/plain": [
              "             ride_id   event timestamp\n",
              "column_type   object  object    object\n",
              "unique_value  194081       5    865826\n",
              "null_values        0       0         1"
            ]
          },
          "execution_count": 7,
          "metadata": {},
          "output_type": "execute_result"
        }
      ],
      "source": [
        "df_info = pd.DataFrame(df_ride_timestamps.dtypes).T.rename(index={0:'column_type'})\n",
        "df_info = df_info.append(pd.DataFrame(df_ride_timestamps.nunique()).T.rename(index={0:'unique_value'}))\n",
        "df_info = df_info.append(pd.DataFrame(df_ride_timestamps.isnull().sum()).T.rename(index={0:'null_values'}))\n",
        "df_info"
      ]
    },
    {
      "cell_type": "markdown",
      "metadata": {
        "id": "HjEyt5SG8hNV"
      },
      "source": [
        "Observations:<br>\n",
        "1. Unique value of 194081 for ride_id in ride_timestamps indicates that we have few records missing in ride_ids dataset."
      ]
    },
    {
      "cell_type": "markdown",
      "metadata": {
        "id": "nER1WODg8hNW"
      },
      "source": [
        "# 2) Data Cleaning"
      ]
    },
    {
      "cell_type": "markdown",
      "metadata": {
        "id": "pvOqE9Ez8hNW"
      },
      "source": [
        "> 1. Ride Ids dataset has negative value in ride distance column. Ride distance cannot be negative. We have only one record with negative distance and that record is removed"
      ]
    },
    {
      "cell_type": "code",
      "execution_count": null,
      "metadata": {
        "id": "T_jE7Hr48hNW",
        "outputId": "29923793-b649-4273-b740-37696c69294b"
      },
      "outputs": [
        {
          "data": {
            "text/html": [
              "<div>\n",
              "<style scoped>\n",
              "    .dataframe tbody tr th:only-of-type {\n",
              "        vertical-align: middle;\n",
              "    }\n",
              "\n",
              "    .dataframe tbody tr th {\n",
              "        vertical-align: top;\n",
              "    }\n",
              "\n",
              "    .dataframe thead th {\n",
              "        text-align: right;\n",
              "    }\n",
              "</style>\n",
              "<table border=\"1\" class=\"dataframe\">\n",
              "  <thead>\n",
              "    <tr style=\"text-align: right;\">\n",
              "      <th></th>\n",
              "      <th>driver_id</th>\n",
              "      <th>ride_id</th>\n",
              "      <th>ride_distance</th>\n",
              "      <th>ride_duration</th>\n",
              "      <th>ride_prime_time</th>\n",
              "    </tr>\n",
              "  </thead>\n",
              "  <tbody>\n",
              "    <tr>\n",
              "      <th>68704</th>\n",
              "      <td>569271b82c506166a23ffcfbf6f854f2</td>\n",
              "      <td>ff1ca66337a18055f1c70c7645399972</td>\n",
              "      <td>-2</td>\n",
              "      <td>181</td>\n",
              "      <td>50</td>\n",
              "    </tr>\n",
              "  </tbody>\n",
              "</table>\n",
              "</div>"
            ],
            "text/plain": [
              "                              driver_id                           ride_id  \\\n",
              "68704  569271b82c506166a23ffcfbf6f854f2  ff1ca66337a18055f1c70c7645399972   \n",
              "\n",
              "       ride_distance  ride_duration  ride_prime_time  \n",
              "68704             -2            181               50  "
            ]
          },
          "execution_count": 8,
          "metadata": {},
          "output_type": "execute_result"
        }
      ],
      "source": [
        "df_ride_ids[(df_ride_ids[['ride_distance']] < 0).all(1)]"
      ]
    },
    {
      "cell_type": "code",
      "execution_count": null,
      "metadata": {
        "id": "lTsk48hJ8hNW",
        "outputId": "4bbc1fb2-d3f2-4cea-c002-1ee01be252ae"
      },
      "outputs": [
        {
          "name": "stdout",
          "output_type": "stream",
          "text": [
            "New Rider_ids dataframe dimension: (193501, 5)\n"
          ]
        }
      ],
      "source": [
        "df_ride_ids = df_ride_ids[(df_ride_ids[['ride_distance']] >= 0).all(1)]\n",
        "print('New Rider_ids dataframe dimension:', df_ride_ids.shape)"
      ]
    },
    {
      "cell_type": "markdown",
      "metadata": {
        "id": "-dpniZL88hNW"
      },
      "source": [
        ">2. Ride timestamp contains only one record with null timestamp. As its just one record we will delete the ride associated with it"
      ]
    },
    {
      "cell_type": "code",
      "execution_count": null,
      "metadata": {
        "id": "TZj1nwbG8hNX",
        "outputId": "8b21af27-5d7b-4415-c397-c81e86f786f9"
      },
      "outputs": [
        {
          "data": {
            "text/html": [
              "<div>\n",
              "<style scoped>\n",
              "    .dataframe tbody tr th:only-of-type {\n",
              "        vertical-align: middle;\n",
              "    }\n",
              "\n",
              "    .dataframe tbody tr th {\n",
              "        vertical-align: top;\n",
              "    }\n",
              "\n",
              "    .dataframe thead th {\n",
              "        text-align: right;\n",
              "    }\n",
              "</style>\n",
              "<table border=\"1\" class=\"dataframe\">\n",
              "  <thead>\n",
              "    <tr style=\"text-align: right;\">\n",
              "      <th></th>\n",
              "      <th>ride_id</th>\n",
              "      <th>event</th>\n",
              "      <th>timestamp</th>\n",
              "    </tr>\n",
              "  </thead>\n",
              "  <tbody>\n",
              "    <tr>\n",
              "      <th>434222</th>\n",
              "      <td>72f0fa0bd86800e9da5c4dced32c8735</td>\n",
              "      <td>arrived_at</td>\n",
              "      <td>NaN</td>\n",
              "    </tr>\n",
              "  </tbody>\n",
              "</table>\n",
              "</div>"
            ],
            "text/plain": [
              "                                 ride_id       event timestamp\n",
              "434222  72f0fa0bd86800e9da5c4dced32c8735  arrived_at       NaN"
            ]
          },
          "execution_count": 10,
          "metadata": {},
          "output_type": "execute_result"
        }
      ],
      "source": [
        "df_ride_timestamps[df_ride_timestamps.isnull().any(axis=1)]"
      ]
    },
    {
      "cell_type": "code",
      "execution_count": null,
      "metadata": {
        "id": "R8ics-e18hNX",
        "outputId": "2410c93c-a624-48a0-8250-d4c265849119"
      },
      "outputs": [
        {
          "data": {
            "text/plain": [
              "(970400, 3)"
            ]
          },
          "execution_count": 11,
          "metadata": {},
          "output_type": "execute_result"
        }
      ],
      "source": [
        "df_ride_timestamps = df_ride_timestamps[df_ride_timestamps.ride_id != '72f0fa0bd86800e9da5c4dced32c8735']\n",
        "df_ride_timestamps.shape"
      ]
    },
    {
      "cell_type": "markdown",
      "metadata": {
        "id": "tcHdMv8j8hNX"
      },
      "source": [
        ">3. Timestamp in ride timestamp dataset is in UTC. As rides in dataset occured in SF we will convert the timestamps to PST timezoe"
      ]
    },
    {
      "cell_type": "code",
      "execution_count": null,
      "metadata": {
        "id": "kfMs0KY_8hNX",
        "outputId": "5f3a240c-a85f-4aad-c527-5bca66b25886"
      },
      "outputs": [
        {
          "name": "stdout",
          "output_type": "stream",
          "text": [
            "<class 'pandas.core.frame.DataFrame'>\n",
            "Int64Index: 970400 entries, 0 to 970404\n",
            "Data columns (total 3 columns):\n",
            "ride_id      970400 non-null object\n",
            "event        970400 non-null object\n",
            "timestamp    970400 non-null datetime64[ns, US/Pacific]\n",
            "dtypes: datetime64[ns, US/Pacific](1), object(2)\n",
            "memory usage: 29.6+ MB\n"
          ]
        }
      ],
      "source": [
        "df_ride_timestamps['timestamp'] = pd.to_datetime(df_ride_timestamps['timestamp'])\n",
        "df_ride_timestamps['timestamp'] = df_ride_timestamps['timestamp'].dt.tz_localize('utc').dt.tz_convert('US/Pacific')\n",
        "df_ride_timestamps.info()"
      ]
    },
    {
      "cell_type": "markdown",
      "metadata": {
        "id": "-4tvBLqf8hNX"
      },
      "source": [
        "# 3) Data Preprocessing"
      ]
    },
    {
      "cell_type": "markdown",
      "metadata": {
        "id": "Yckl7nYr8hNX"
      },
      "source": [
        "### a)Transposing ride timestamp dataset###"
      ]
    },
    {
      "cell_type": "markdown",
      "metadata": {
        "id": "qAMRtkJL8hNY"
      },
      "source": [
        ">Ride events are spread across rows for each ride. The records will be transposed for events to be across columns for easy analysis"
      ]
    },
    {
      "cell_type": "code",
      "execution_count": null,
      "metadata": {
        "id": "hQv_iDpZ8hNY",
        "outputId": "8aefa9ec-8ddf-4cb0-a31f-3b5c43e7253f"
      },
      "outputs": [
        {
          "data": {
            "text/html": [
              "<div>\n",
              "<style scoped>\n",
              "    .dataframe tbody tr th:only-of-type {\n",
              "        vertical-align: middle;\n",
              "    }\n",
              "\n",
              "    .dataframe tbody tr th {\n",
              "        vertical-align: top;\n",
              "    }\n",
              "\n",
              "    .dataframe thead th {\n",
              "        text-align: right;\n",
              "    }\n",
              "</style>\n",
              "<table border=\"1\" class=\"dataframe\">\n",
              "  <thead>\n",
              "    <tr style=\"text-align: right;\">\n",
              "      <th></th>\n",
              "      <th>ride_id</th>\n",
              "      <th>event</th>\n",
              "      <th>timestamp</th>\n",
              "    </tr>\n",
              "  </thead>\n",
              "  <tbody>\n",
              "    <tr>\n",
              "      <th>0</th>\n",
              "      <td>00003037a262d9ee40e61b5c0718f7f0</td>\n",
              "      <td>requested_at</td>\n",
              "      <td>2016-06-13 02:39:19-07:00</td>\n",
              "    </tr>\n",
              "    <tr>\n",
              "      <th>1</th>\n",
              "      <td>00003037a262d9ee40e61b5c0718f7f0</td>\n",
              "      <td>accepted_at</td>\n",
              "      <td>2016-06-13 02:39:51-07:00</td>\n",
              "    </tr>\n",
              "    <tr>\n",
              "      <th>2</th>\n",
              "      <td>00003037a262d9ee40e61b5c0718f7f0</td>\n",
              "      <td>arrived_at</td>\n",
              "      <td>2016-06-13 02:44:31-07:00</td>\n",
              "    </tr>\n",
              "    <tr>\n",
              "      <th>3</th>\n",
              "      <td>00003037a262d9ee40e61b5c0718f7f0</td>\n",
              "      <td>picked_up_at</td>\n",
              "      <td>2016-06-13 02:44:33-07:00</td>\n",
              "    </tr>\n",
              "    <tr>\n",
              "      <th>4</th>\n",
              "      <td>00003037a262d9ee40e61b5c0718f7f0</td>\n",
              "      <td>dropped_off_at</td>\n",
              "      <td>2016-06-13 03:03:05-07:00</td>\n",
              "    </tr>\n",
              "  </tbody>\n",
              "</table>\n",
              "</div>"
            ],
            "text/plain": [
              "                            ride_id           event                 timestamp\n",
              "0  00003037a262d9ee40e61b5c0718f7f0    requested_at 2016-06-13 02:39:19-07:00\n",
              "1  00003037a262d9ee40e61b5c0718f7f0     accepted_at 2016-06-13 02:39:51-07:00\n",
              "2  00003037a262d9ee40e61b5c0718f7f0      arrived_at 2016-06-13 02:44:31-07:00\n",
              "3  00003037a262d9ee40e61b5c0718f7f0    picked_up_at 2016-06-13 02:44:33-07:00\n",
              "4  00003037a262d9ee40e61b5c0718f7f0  dropped_off_at 2016-06-13 03:03:05-07:00"
            ]
          },
          "execution_count": 13,
          "metadata": {},
          "output_type": "execute_result"
        }
      ],
      "source": [
        "df_ride_timestamps.head()"
      ]
    },
    {
      "cell_type": "code",
      "execution_count": null,
      "metadata": {
        "id": "BOh2Q3JG8hNY",
        "outputId": "9b3516d5-6604-415a-b539-c1fdea822329"
      },
      "outputs": [
        {
          "data": {
            "text/html": [
              "<div>\n",
              "<style scoped>\n",
              "    .dataframe tbody tr th:only-of-type {\n",
              "        vertical-align: middle;\n",
              "    }\n",
              "\n",
              "    .dataframe tbody tr th {\n",
              "        vertical-align: top;\n",
              "    }\n",
              "\n",
              "    .dataframe thead th {\n",
              "        text-align: right;\n",
              "    }\n",
              "</style>\n",
              "<table border=\"1\" class=\"dataframe\">\n",
              "  <thead>\n",
              "    <tr style=\"text-align: right;\">\n",
              "      <th>event</th>\n",
              "      <th>ride_id</th>\n",
              "      <th>accepted_at</th>\n",
              "      <th>arrived_at</th>\n",
              "      <th>dropped_off_at</th>\n",
              "      <th>picked_up_at</th>\n",
              "      <th>requested_at</th>\n",
              "    </tr>\n",
              "  </thead>\n",
              "  <tbody>\n",
              "    <tr>\n",
              "      <th>0</th>\n",
              "      <td>00003037a262d9ee40e61b5c0718f7f0</td>\n",
              "      <td>2016-06-13 09:39:51</td>\n",
              "      <td>2016-06-13 09:44:31</td>\n",
              "      <td>2016-06-13 10:03:05</td>\n",
              "      <td>2016-06-13 09:44:33</td>\n",
              "      <td>2016-06-13 09:39:19</td>\n",
              "    </tr>\n",
              "    <tr>\n",
              "      <th>1</th>\n",
              "      <td>00005eae40882760d675da5effb89ae3</td>\n",
              "      <td>2016-05-14 05:23:25</td>\n",
              "      <td>2016-05-14 05:26:17</td>\n",
              "      <td>2016-05-14 05:34:17</td>\n",
              "      <td>2016-05-14 05:26:18</td>\n",
              "      <td>2016-05-14 05:23:21</td>\n",
              "    </tr>\n",
              "    <tr>\n",
              "      <th>2</th>\n",
              "      <td>000061d42cf29f73b591041d9a1b2973</td>\n",
              "      <td>2016-05-16 15:43:14</td>\n",
              "      <td>2016-05-16 15:47:29</td>\n",
              "      <td>2016-05-16 15:54:18</td>\n",
              "      <td>2016-05-16 15:47:32</td>\n",
              "      <td>2016-05-16 15:43:09</td>\n",
              "    </tr>\n",
              "    <tr>\n",
              "      <th>3</th>\n",
              "      <td>00006efeb0d5e3ccad7d921ddeee9900</td>\n",
              "      <td>2016-05-11 19:29:43</td>\n",
              "      <td>2016-05-11 19:35:11</td>\n",
              "      <td>2016-05-11 19:40:47</td>\n",
              "      <td>2016-05-11 19:35:15</td>\n",
              "      <td>2016-05-11 19:29:36</td>\n",
              "    </tr>\n",
              "    <tr>\n",
              "      <th>4</th>\n",
              "      <td>0000d9b24d8ccdd991b76258e616fa01</td>\n",
              "      <td>2016-04-26 18:12:15</td>\n",
              "      <td>2016-04-26 18:16:52</td>\n",
              "      <td>2016-04-26 18:24:14</td>\n",
              "      <td>2016-04-26 18:16:55</td>\n",
              "      <td>2016-04-26 18:11:38</td>\n",
              "    </tr>\n",
              "  </tbody>\n",
              "</table>\n",
              "</div>"
            ],
            "text/plain": [
              "event                           ride_id         accepted_at  \\\n",
              "0      00003037a262d9ee40e61b5c0718f7f0 2016-06-13 09:39:51   \n",
              "1      00005eae40882760d675da5effb89ae3 2016-05-14 05:23:25   \n",
              "2      000061d42cf29f73b591041d9a1b2973 2016-05-16 15:43:14   \n",
              "3      00006efeb0d5e3ccad7d921ddeee9900 2016-05-11 19:29:43   \n",
              "4      0000d9b24d8ccdd991b76258e616fa01 2016-04-26 18:12:15   \n",
              "\n",
              "event          arrived_at      dropped_off_at        picked_up_at  \\\n",
              "0     2016-06-13 09:44:31 2016-06-13 10:03:05 2016-06-13 09:44:33   \n",
              "1     2016-05-14 05:26:17 2016-05-14 05:34:17 2016-05-14 05:26:18   \n",
              "2     2016-05-16 15:47:29 2016-05-16 15:54:18 2016-05-16 15:47:32   \n",
              "3     2016-05-11 19:35:11 2016-05-11 19:40:47 2016-05-11 19:35:15   \n",
              "4     2016-04-26 18:16:52 2016-04-26 18:24:14 2016-04-26 18:16:55   \n",
              "\n",
              "event        requested_at  \n",
              "0     2016-06-13 09:39:19  \n",
              "1     2016-05-14 05:23:21  \n",
              "2     2016-05-16 15:43:09  \n",
              "3     2016-05-11 19:29:36  \n",
              "4     2016-04-26 18:11:38  "
            ]
          },
          "execution_count": 14,
          "metadata": {},
          "output_type": "execute_result"
        }
      ],
      "source": [
        "df_ride_timestamps = df_ride_timestamps.pivot(index='ride_id',columns='event',values='timestamp')\n",
        "df_ride_timestamps.reset_index(inplace=True)\n",
        "df_ride_timestamps.head()"
      ]
    },
    {
      "cell_type": "markdown",
      "metadata": {
        "id": "EaWbuaH28hNY"
      },
      "source": [
        "### b) Merging all three datasets###"
      ]
    },
    {
      "cell_type": "markdown",
      "metadata": {
        "id": "JzlK_AT58hNY"
      },
      "source": [
        "**1. Merging Driver_Ids + ride_ids on driver id**"
      ]
    },
    {
      "cell_type": "code",
      "execution_count": null,
      "metadata": {
        "id": "ZgWNe4Wh8hNY",
        "outputId": "ca8756c3-48d6-4483-84fc-74aa2c7dd211"
      },
      "outputs": [
        {
          "data": {
            "text/plain": [
              "(193584, 6)"
            ]
          },
          "execution_count": 15,
          "metadata": {},
          "output_type": "execute_result"
        }
      ],
      "source": [
        "df_driver_ids['driver_id'] = df_driver_ids['driver_id'].str.lower()\n",
        "df_ride_ids['driver_id'] = df_ride_ids['driver_id'].str.lower()\n",
        "df_driver_ride_merge = pd.merge(df_driver_ids,df_ride_ids,on='driver_id',how='outer')\n",
        "df_driver_ride_merge.shape"
      ]
    },
    {
      "cell_type": "code",
      "execution_count": null,
      "metadata": {
        "id": "boPY1_5i8hNY",
        "outputId": "3a18ac28-9d84-4ade-c3f7-5b1bb8b75d14"
      },
      "outputs": [
        {
          "data": {
            "text/plain": [
              "(83, 6)"
            ]
          },
          "execution_count": 16,
          "metadata": {},
          "output_type": "execute_result"
        }
      ],
      "source": [
        "df_driver_ride_merge.loc[df_driver_ride_merge.ride_id.isnull()].shape"
      ]
    },
    {
      "cell_type": "markdown",
      "metadata": {
        "id": "FIyxNKDL8hNZ"
      },
      "source": [
        ">83 drivers were on-boarded, but they have no ride information. Either ride information is missing for them or they never completed any ride. The population of 83 out of 927 contributes to only 9% of data in driver_ids dataset and can be deleted."
      ]
    },
    {
      "cell_type": "markdown",
      "metadata": {
        "id": "MEAaclKf8hNZ"
      },
      "source": [
        "--> Deleting 83 records where from driver_ids from"
      ]
    },
    {
      "cell_type": "code",
      "execution_count": null,
      "metadata": {
        "id": "17PYqFwP8hNZ",
        "outputId": "2ec05907-8363-472e-cbad-10ae7d8b04ef"
      },
      "outputs": [
        {
          "data": {
            "text/plain": [
              "driver_id                83\n",
              "driver_onboard_date       0\n",
              "ride_id                7611\n",
              "ride_distance          5637\n",
              "ride_duration          1922\n",
              "ride_prime_time          10\n",
              "dtype: int64"
            ]
          },
          "execution_count": 17,
          "metadata": {},
          "output_type": "execute_result"
        }
      ],
      "source": [
        "df_driver_ride_merge.loc[df_driver_ride_merge.driver_onboard_date.isnull()].nunique()"
      ]
    },
    {
      "cell_type": "markdown",
      "metadata": {
        "id": "fH7aCG5B8hNZ"
      },
      "source": [
        ">83 drivers from ride_ids dataset are not present in onboarding dataset. Either their onboarding information is missing or they were onboarded before 28th March 2016. Considering exact 83 drivers from on-boarding dataset did not had ride information, it can be possible that driver id's between driver_ids and ride_ids dataset might have been mistakenly changed."
      ]
    },
    {
      "cell_type": "code",
      "execution_count": null,
      "metadata": {
        "id": "3LegfkeP8hNZ",
        "outputId": "cce31404-0a09-4fe1-caf4-2c0f61d5a9fa"
      },
      "outputs": [
        {
          "data": {
            "text/plain": [
              "(193584, 6)"
            ]
          },
          "execution_count": 18,
          "metadata": {},
          "output_type": "execute_result"
        }
      ],
      "source": [
        "df_driver_ride_merge.shape"
      ]
    },
    {
      "cell_type": "code",
      "execution_count": null,
      "metadata": {
        "id": "XF7AcfUQ8hNZ",
        "outputId": "612cb617-c36d-49e0-e22d-50412e87d096"
      },
      "outputs": [
        {
          "data": {
            "text/plain": [
              "(185890, 6)"
            ]
          },
          "execution_count": 19,
          "metadata": {},
          "output_type": "execute_result"
        }
      ],
      "source": [
        "df_driver_ride_merge = pd.merge(df_driver_ids,df_ride_ids,on='driver_id',how='inner')\n",
        "df_driver_ride_merge.shape"
      ]
    },
    {
      "cell_type": "markdown",
      "metadata": {
        "id": "N2nx3y2c8hNZ"
      },
      "source": [
        "**2. Merging Driver_Ids + ride_ids + ride_timestamps on rideid**"
      ]
    },
    {
      "cell_type": "code",
      "execution_count": null,
      "metadata": {
        "id": "NxUUDdQw8hNi",
        "outputId": "a416a832-3f65-432d-9d76-3e33248cf20b"
      },
      "outputs": [
        {
          "data": {
            "text/plain": [
              "(195763, 11)"
            ]
          },
          "execution_count": 20,
          "metadata": {},
          "output_type": "execute_result"
        }
      ],
      "source": [
        "df_driver_ride_merge['ride_id'] = df_driver_ride_merge['ride_id'].str.lower()\n",
        "df_ride_timestamps['ride_id'] = df_ride_timestamps['ride_id'].str.lower()\n",
        "df_final_merge = pd.merge(df_driver_ride_merge,df_ride_timestamps,on='ride_id',how='outer')\n",
        "df_final_merge.shape"
      ]
    },
    {
      "cell_type": "code",
      "execution_count": null,
      "metadata": {
        "id": "ft42kWYQ8hNi",
        "outputId": "b49c2ad2-6554-42d9-ca72-78b4c8474475"
      },
      "outputs": [
        {
          "data": {
            "text/plain": [
              "driver_id                18\n",
              "driver_onboard_date      14\n",
              "ride_id                1683\n",
              "ride_distance          1555\n",
              "ride_duration           990\n",
              "ride_prime_time           9\n",
              "accepted_at               0\n",
              "arrived_at                0\n",
              "dropped_off_at            0\n",
              "picked_up_at              0\n",
              "requested_at              0\n",
              "dtype: int64"
            ]
          },
          "execution_count": 21,
          "metadata": {},
          "output_type": "execute_result"
        }
      ],
      "source": [
        "df_final_merge.loc[df_final_merge.accepted_at.isnull()].nunique()"
      ]
    },
    {
      "cell_type": "markdown",
      "metadata": {
        "id": "TajoE68F8hNi"
      },
      "source": [
        ">1683 rides for 18 drivers are not captured in ride_timestamp dataset. As we cannot relate this population to ride information these records will be deleted."
      ]
    },
    {
      "cell_type": "code",
      "execution_count": null,
      "metadata": {
        "id": "rAfqCmNe8hNi",
        "outputId": "fed9916d-48bd-4e88-8494-d3d89a3101e1"
      },
      "outputs": [
        {
          "data": {
            "text/plain": [
              "driver_id                 0\n",
              "driver_onboard_date       0\n",
              "ride_id                9873\n",
              "ride_distance             0\n",
              "ride_duration             0\n",
              "ride_prime_time           0\n",
              "accepted_at            9863\n",
              "arrived_at             9865\n",
              "dropped_off_at         9856\n",
              "picked_up_at           9864\n",
              "requested_at           9863\n",
              "dtype: int64"
            ]
          },
          "execution_count": 22,
          "metadata": {},
          "output_type": "execute_result"
        }
      ],
      "source": [
        "df_final_merge.loc[df_final_merge.driver_id.isnull()].nunique()"
      ]
    },
    {
      "cell_type": "markdown",
      "metadata": {
        "id": "Q5V2JdYv8hNj"
      },
      "source": [
        ">9873 rides in ride_timestamp dataset does not have any information around drivers and rides and will be deleted"
      ]
    },
    {
      "cell_type": "code",
      "execution_count": null,
      "metadata": {
        "id": "H-R7Co5i8hNj",
        "outputId": "f6b2798a-5698-47a8-cf2c-f7dcff47b21f"
      },
      "outputs": [
        {
          "data": {
            "text/plain": [
              "(184207, 11)"
            ]
          },
          "execution_count": 23,
          "metadata": {},
          "output_type": "execute_result"
        }
      ],
      "source": [
        "df_final_merge = pd.merge(df_driver_ride_merge,df_ride_timestamps,on='ride_id',how='inner')\n",
        "df_final_merge.shape"
      ]
    },
    {
      "cell_type": "code",
      "execution_count": null,
      "metadata": {
        "id": "5ZdFH6rB8hNj",
        "outputId": "74a8ff0a-f2f8-45f9-fbe9-19415923a8ae"
      },
      "outputs": [
        {
          "data": {
            "text/html": [
              "<div>\n",
              "<style scoped>\n",
              "    .dataframe tbody tr th:only-of-type {\n",
              "        vertical-align: middle;\n",
              "    }\n",
              "\n",
              "    .dataframe tbody tr th {\n",
              "        vertical-align: top;\n",
              "    }\n",
              "\n",
              "    .dataframe thead th {\n",
              "        text-align: right;\n",
              "    }\n",
              "</style>\n",
              "<table border=\"1\" class=\"dataframe\">\n",
              "  <thead>\n",
              "    <tr style=\"text-align: right;\">\n",
              "      <th></th>\n",
              "      <th>0</th>\n",
              "    </tr>\n",
              "  </thead>\n",
              "  <tbody>\n",
              "    <tr>\n",
              "      <th>driver_id</th>\n",
              "      <td>837</td>\n",
              "    </tr>\n",
              "    <tr>\n",
              "      <th>driver_onboard_date</th>\n",
              "      <td>49</td>\n",
              "    </tr>\n",
              "    <tr>\n",
              "      <th>ride_id</th>\n",
              "      <td>184207</td>\n",
              "    </tr>\n",
              "    <tr>\n",
              "      <th>ride_distance</th>\n",
              "      <td>27707</td>\n",
              "    </tr>\n",
              "    <tr>\n",
              "      <th>ride_duration</th>\n",
              "      <td>4063</td>\n",
              "    </tr>\n",
              "    <tr>\n",
              "      <th>ride_prime_time</th>\n",
              "      <td>12</td>\n",
              "    </tr>\n",
              "    <tr>\n",
              "      <th>accepted_at</th>\n",
              "      <td>180930</td>\n",
              "    </tr>\n",
              "    <tr>\n",
              "      <th>arrived_at</th>\n",
              "      <td>181010</td>\n",
              "    </tr>\n",
              "    <tr>\n",
              "      <th>dropped_off_at</th>\n",
              "      <td>180980</td>\n",
              "    </tr>\n",
              "    <tr>\n",
              "      <th>picked_up_at</th>\n",
              "      <td>180994</td>\n",
              "    </tr>\n",
              "    <tr>\n",
              "      <th>requested_at</th>\n",
              "      <td>180935</td>\n",
              "    </tr>\n",
              "  </tbody>\n",
              "</table>\n",
              "</div>"
            ],
            "text/plain": [
              "                          0\n",
              "driver_id               837\n",
              "driver_onboard_date      49\n",
              "ride_id              184207\n",
              "ride_distance         27707\n",
              "ride_duration          4063\n",
              "ride_prime_time          12\n",
              "accepted_at          180930\n",
              "arrived_at           181010\n",
              "dropped_off_at       180980\n",
              "picked_up_at         180994\n",
              "requested_at         180935"
            ]
          },
          "execution_count": 24,
          "metadata": {},
          "output_type": "execute_result"
        }
      ],
      "source": [
        "pd.DataFrame(df_final_merge.nunique())"
      ]
    },
    {
      "cell_type": "code",
      "execution_count": null,
      "metadata": {
        "id": "RNjMFxsC8hNj",
        "outputId": "a7f90c83-c920-4615-a94f-e5db84152e16"
      },
      "outputs": [
        {
          "data": {
            "text/html": [
              "<div>\n",
              "<style scoped>\n",
              "    .dataframe tbody tr th:only-of-type {\n",
              "        vertical-align: middle;\n",
              "    }\n",
              "\n",
              "    .dataframe tbody tr th {\n",
              "        vertical-align: top;\n",
              "    }\n",
              "\n",
              "    .dataframe thead th {\n",
              "        text-align: right;\n",
              "    }\n",
              "</style>\n",
              "<table border=\"1\" class=\"dataframe\">\n",
              "  <thead>\n",
              "    <tr style=\"text-align: right;\">\n",
              "      <th></th>\n",
              "      <th>driver_id</th>\n",
              "      <th>driver_onboard_date</th>\n",
              "      <th>ride_id</th>\n",
              "      <th>ride_distance</th>\n",
              "      <th>ride_duration</th>\n",
              "      <th>ride_prime_time</th>\n",
              "      <th>accepted_at</th>\n",
              "      <th>arrived_at</th>\n",
              "      <th>dropped_off_at</th>\n",
              "      <th>picked_up_at</th>\n",
              "      <th>requested_at</th>\n",
              "    </tr>\n",
              "  </thead>\n",
              "  <tbody>\n",
              "    <tr>\n",
              "      <th>0</th>\n",
              "      <td>002be0ffdc997bd5c50703158b7c2491</td>\n",
              "      <td>2016-03-29 00:00:00</td>\n",
              "      <td>006d61cf7446e682f7bc50b0f8a5bea5</td>\n",
              "      <td>1811</td>\n",
              "      <td>327</td>\n",
              "      <td>50</td>\n",
              "      <td>2016-04-23 02:14:15</td>\n",
              "      <td>2016-04-23 02:16:36</td>\n",
              "      <td>2016-04-23 02:22:07</td>\n",
              "      <td>2016-04-23 02:16:40</td>\n",
              "      <td>2016-04-23 02:13:50</td>\n",
              "    </tr>\n",
              "    <tr>\n",
              "      <th>1</th>\n",
              "      <td>002be0ffdc997bd5c50703158b7c2491</td>\n",
              "      <td>2016-03-29 00:00:00</td>\n",
              "      <td>01b522c5c3a756fbdb12e95e87507eda</td>\n",
              "      <td>3362</td>\n",
              "      <td>809</td>\n",
              "      <td>0</td>\n",
              "      <td>2016-03-29 19:00:52</td>\n",
              "      <td>2016-03-29 19:03:57</td>\n",
              "      <td>2016-03-29 19:17:30</td>\n",
              "      <td>2016-03-29 19:04:01</td>\n",
              "      <td>2016-03-29 19:00:49</td>\n",
              "    </tr>\n",
              "    <tr>\n",
              "      <th>2</th>\n",
              "      <td>002be0ffdc997bd5c50703158b7c2491</td>\n",
              "      <td>2016-03-29 00:00:00</td>\n",
              "      <td>029227c4c2971ce69ff2274dc798ef43</td>\n",
              "      <td>3282</td>\n",
              "      <td>572</td>\n",
              "      <td>0</td>\n",
              "      <td>2016-06-21 11:56:39</td>\n",
              "      <td>2016-06-21 12:01:32</td>\n",
              "      <td>2016-06-21 12:11:07</td>\n",
              "      <td>2016-06-21 12:01:35</td>\n",
              "      <td>2016-06-21 11:56:31</td>\n",
              "    </tr>\n",
              "    <tr>\n",
              "      <th>3</th>\n",
              "      <td>002be0ffdc997bd5c50703158b7c2491</td>\n",
              "      <td>2016-03-29 00:00:00</td>\n",
              "      <td>034e861343a63ac3c18a9ceb1ce0ac69</td>\n",
              "      <td>65283</td>\n",
              "      <td>3338</td>\n",
              "      <td>25</td>\n",
              "      <td>2016-05-19 09:15:33</td>\n",
              "      <td>2016-05-19 09:18:20</td>\n",
              "      <td>2016-05-19 10:13:58</td>\n",
              "      <td>2016-05-19 09:18:20</td>\n",
              "      <td>2016-05-19 09:15:29</td>\n",
              "    </tr>\n",
              "    <tr>\n",
              "      <th>4</th>\n",
              "      <td>002be0ffdc997bd5c50703158b7c2491</td>\n",
              "      <td>2016-03-29 00:00:00</td>\n",
              "      <td>034f2e614a2f9fc7f1c2f77647d1b981</td>\n",
              "      <td>4115</td>\n",
              "      <td>823</td>\n",
              "      <td>100</td>\n",
              "      <td>2016-04-20 22:05:32</td>\n",
              "      <td>2016-04-20 22:07:03</td>\n",
              "      <td>2016-04-20 22:20:45</td>\n",
              "      <td>2016-04-20 22:07:02</td>\n",
              "      <td>2016-04-20 22:05:30</td>\n",
              "    </tr>\n",
              "  </tbody>\n",
              "</table>\n",
              "</div>"
            ],
            "text/plain": [
              "                          driver_id  driver_onboard_date  \\\n",
              "0  002be0ffdc997bd5c50703158b7c2491  2016-03-29 00:00:00   \n",
              "1  002be0ffdc997bd5c50703158b7c2491  2016-03-29 00:00:00   \n",
              "2  002be0ffdc997bd5c50703158b7c2491  2016-03-29 00:00:00   \n",
              "3  002be0ffdc997bd5c50703158b7c2491  2016-03-29 00:00:00   \n",
              "4  002be0ffdc997bd5c50703158b7c2491  2016-03-29 00:00:00   \n",
              "\n",
              "                            ride_id  ride_distance  ride_duration  \\\n",
              "0  006d61cf7446e682f7bc50b0f8a5bea5           1811            327   \n",
              "1  01b522c5c3a756fbdb12e95e87507eda           3362            809   \n",
              "2  029227c4c2971ce69ff2274dc798ef43           3282            572   \n",
              "3  034e861343a63ac3c18a9ceb1ce0ac69          65283           3338   \n",
              "4  034f2e614a2f9fc7f1c2f77647d1b981           4115            823   \n",
              "\n",
              "   ride_prime_time         accepted_at          arrived_at  \\\n",
              "0               50 2016-04-23 02:14:15 2016-04-23 02:16:36   \n",
              "1                0 2016-03-29 19:00:52 2016-03-29 19:03:57   \n",
              "2                0 2016-06-21 11:56:39 2016-06-21 12:01:32   \n",
              "3               25 2016-05-19 09:15:33 2016-05-19 09:18:20   \n",
              "4              100 2016-04-20 22:05:32 2016-04-20 22:07:03   \n",
              "\n",
              "       dropped_off_at        picked_up_at        requested_at  \n",
              "0 2016-04-23 02:22:07 2016-04-23 02:16:40 2016-04-23 02:13:50  \n",
              "1 2016-03-29 19:17:30 2016-03-29 19:04:01 2016-03-29 19:00:49  \n",
              "2 2016-06-21 12:11:07 2016-06-21 12:01:35 2016-06-21 11:56:31  \n",
              "3 2016-05-19 10:13:58 2016-05-19 09:18:20 2016-05-19 09:15:29  \n",
              "4 2016-04-20 22:20:45 2016-04-20 22:07:02 2016-04-20 22:05:30  "
            ]
          },
          "execution_count": 25,
          "metadata": {},
          "output_type": "execute_result"
        }
      ],
      "source": [
        "df_final_merge.head()"
      ]
    },
    {
      "cell_type": "markdown",
      "metadata": {
        "id": "VohOxoMA8hNj"
      },
      "source": [
        "### c) Calculating fares for each ride###"
      ]
    },
    {
      "cell_type": "code",
      "execution_count": null,
      "metadata": {
        "id": "Bl1EuHw28hNj"
      },
      "outputs": [],
      "source": [
        "df_fare_calculations = df_final_merge"
      ]
    },
    {
      "cell_type": "code",
      "execution_count": null,
      "metadata": {
        "id": "9MXYFUjg8hNj"
      },
      "outputs": [],
      "source": [
        "# Converting ride distance from meters to miles\n",
        "df_fare_calculations['ride_distance_miles'] = df_fare_calculations.apply(lambda row: row.ride_distance * 0.000621371, axis =1)\n",
        "# Converting ride duration from seconds to minutes\n",
        "df_fare_calculations['ride_duration_minutes'] = df_fare_calculations.apply(lambda row: row.ride_duration / 60, axis =1)"
      ]
    },
    {
      "cell_type": "code",
      "execution_count": null,
      "metadata": {
        "id": "OXrMzfsb8hNk"
      },
      "outputs": [],
      "source": [
        "# Converting drivers earnings\n",
        "df_fare_calculations['driver_earning'] = df_fare_calculations.apply(lambda row: ( ((2 + row.ride_distance_miles * 1.15 + row.ride_duration_minutes * 0.22) * (1 + row.ride_prime_time/100)))*0.80, axis =1)\n",
        "df_fare_calculations['driver_earning'] = df_fare_calculations['driver_earning'].apply(lambda x: 5 if x < 5 else x)\n",
        "df_fare_calculations['driver_earning'] = df_fare_calculations['driver_earning'].apply(lambda x: 400 if x > 400 else x)"
      ]
    },
    {
      "cell_type": "code",
      "execution_count": null,
      "metadata": {
        "id": "u4pptl_e8hNk"
      },
      "outputs": [],
      "source": [
        "# Converting drivers earnings\n",
        "df_fare_calculations['lyft_earning'] = df_fare_calculations.apply(lambda row: 1.75 + ( (2 + row.ride_distance_miles * 1.15 + row.ride_duration_minutes * 0.22) * (1 + (row.ride_prime_time /100)) * 0.20  ), axis =1)"
      ]
    },
    {
      "cell_type": "code",
      "execution_count": null,
      "metadata": {
        "id": "siW1SsDK8hNk"
      },
      "outputs": [],
      "source": [
        "# Convering event timestamp to timestamp format\n",
        "df_fare_calculations['accepted_at'] = pd.to_datetime(df_fare_calculations['accepted_at'])\n",
        "df_fare_calculations['dropped_off_at'] = pd.to_datetime(df_fare_calculations['dropped_off_at'])\n",
        "df_fare_calculations['picked_up_at'] = pd.to_datetime(df_fare_calculations['picked_up_at'])\n",
        "df_fare_calculations['requested_at'] = pd.to_datetime(df_fare_calculations['requested_at'])"
      ]
    },
    {
      "cell_type": "code",
      "execution_count": null,
      "metadata": {
        "id": "C9AQIRnU8hNk"
      },
      "outputs": [],
      "source": [
        "# Coverting dropped off timestamp to week number\n",
        "df_fare_calculations['dropped_off_at_weekno'] = df_fare_calculations['dropped_off_at'].dt.week"
      ]
    },
    {
      "cell_type": "code",
      "execution_count": null,
      "metadata": {
        "id": "V8euNi3H8hNk"
      },
      "outputs": [],
      "source": [
        "# Calculating time difference in secs between ride requested at and accepted at\n",
        "df_fare_calculations['requested_accepted_gap_sec'] = (df_fare_calculations['accepted_at'] - df_fare_calculations['requested_at']).dt.seconds\n",
        "\n",
        "# Calculating time difference in secs between ride accepted at and ride arrived at\n",
        "df_fare_calculations['accepted_arrived_gap_sec'] = (pd.to_datetime(df_fare_calculations['arrived_at']) - df_fare_calculations['accepted_at']).dt.seconds"
      ]
    },
    {
      "cell_type": "code",
      "execution_count": null,
      "metadata": {
        "id": "t_J9S1DB8hNk",
        "outputId": "cfebc035-a8a0-45f1-bbc4-c16182899e44"
      },
      "outputs": [
        {
          "data": {
            "text/html": [
              "<div>\n",
              "<style scoped>\n",
              "    .dataframe tbody tr th:only-of-type {\n",
              "        vertical-align: middle;\n",
              "    }\n",
              "\n",
              "    .dataframe tbody tr th {\n",
              "        vertical-align: top;\n",
              "    }\n",
              "\n",
              "    .dataframe thead th {\n",
              "        text-align: right;\n",
              "    }\n",
              "</style>\n",
              "<table border=\"1\" class=\"dataframe\">\n",
              "  <thead>\n",
              "    <tr style=\"text-align: right;\">\n",
              "      <th></th>\n",
              "      <th>driver_id</th>\n",
              "      <th>driver_onboard_date</th>\n",
              "      <th>ride_id</th>\n",
              "      <th>ride_distance</th>\n",
              "      <th>ride_duration</th>\n",
              "      <th>ride_prime_time</th>\n",
              "      <th>accepted_at</th>\n",
              "      <th>arrived_at</th>\n",
              "      <th>dropped_off_at</th>\n",
              "      <th>picked_up_at</th>\n",
              "      <th>requested_at</th>\n",
              "      <th>ride_distance_miles</th>\n",
              "      <th>ride_duration_minutes</th>\n",
              "      <th>driver_earning</th>\n",
              "      <th>lyft_earning</th>\n",
              "      <th>dropped_off_at_weekno</th>\n",
              "      <th>requested_accepted_gap_sec</th>\n",
              "      <th>accepted_arrived_gap_sec</th>\n",
              "    </tr>\n",
              "  </thead>\n",
              "  <tbody>\n",
              "    <tr>\n",
              "      <th>0</th>\n",
              "      <td>002be0ffdc997bd5c50703158b7c2491</td>\n",
              "      <td>2016-03-29 00:00:00</td>\n",
              "      <td>006d61cf7446e682f7bc50b0f8a5bea5</td>\n",
              "      <td>1811</td>\n",
              "      <td>327</td>\n",
              "      <td>50</td>\n",
              "      <td>2016-04-23 02:14:15</td>\n",
              "      <td>2016-04-23 02:16:36</td>\n",
              "      <td>2016-04-23 02:22:07</td>\n",
              "      <td>2016-04-23 02:16:40</td>\n",
              "      <td>2016-04-23 02:13:50</td>\n",
              "      <td>1.125303</td>\n",
              "      <td>5.450000</td>\n",
              "      <td>5.391718</td>\n",
              "      <td>3.097929</td>\n",
              "      <td>16</td>\n",
              "      <td>25</td>\n",
              "      <td>141</td>\n",
              "    </tr>\n",
              "    <tr>\n",
              "      <th>1</th>\n",
              "      <td>002be0ffdc997bd5c50703158b7c2491</td>\n",
              "      <td>2016-03-29 00:00:00</td>\n",
              "      <td>01b522c5c3a756fbdb12e95e87507eda</td>\n",
              "      <td>3362</td>\n",
              "      <td>809</td>\n",
              "      <td>0</td>\n",
              "      <td>2016-03-29 19:00:52</td>\n",
              "      <td>2016-03-29 19:03:57</td>\n",
              "      <td>2016-03-29 19:17:30</td>\n",
              "      <td>2016-03-29 19:04:01</td>\n",
              "      <td>2016-03-29 19:00:49</td>\n",
              "      <td>2.089049</td>\n",
              "      <td>13.483333</td>\n",
              "      <td>5.894992</td>\n",
              "      <td>3.223748</td>\n",
              "      <td>13</td>\n",
              "      <td>3</td>\n",
              "      <td>185</td>\n",
              "    </tr>\n",
              "    <tr>\n",
              "      <th>2</th>\n",
              "      <td>002be0ffdc997bd5c50703158b7c2491</td>\n",
              "      <td>2016-03-29 00:00:00</td>\n",
              "      <td>029227c4c2971ce69ff2274dc798ef43</td>\n",
              "      <td>3282</td>\n",
              "      <td>572</td>\n",
              "      <td>0</td>\n",
              "      <td>2016-06-21 11:56:39</td>\n",
              "      <td>2016-06-21 12:01:32</td>\n",
              "      <td>2016-06-21 12:11:07</td>\n",
              "      <td>2016-06-21 12:01:35</td>\n",
              "      <td>2016-06-21 11:56:31</td>\n",
              "      <td>2.039340</td>\n",
              "      <td>9.533333</td>\n",
              "      <td>5.154059</td>\n",
              "      <td>3.038515</td>\n",
              "      <td>25</td>\n",
              "      <td>8</td>\n",
              "      <td>293</td>\n",
              "    </tr>\n",
              "    <tr>\n",
              "      <th>3</th>\n",
              "      <td>002be0ffdc997bd5c50703158b7c2491</td>\n",
              "      <td>2016-03-29 00:00:00</td>\n",
              "      <td>034e861343a63ac3c18a9ceb1ce0ac69</td>\n",
              "      <td>65283</td>\n",
              "      <td>3338</td>\n",
              "      <td>25</td>\n",
              "      <td>2016-05-19 09:15:33</td>\n",
              "      <td>2016-05-19 09:18:20</td>\n",
              "      <td>2016-05-19 10:13:58</td>\n",
              "      <td>2016-05-19 09:18:20</td>\n",
              "      <td>2016-05-19 09:15:29</td>\n",
              "      <td>40.564963</td>\n",
              "      <td>55.633333</td>\n",
              "      <td>60.889041</td>\n",
              "      <td>16.972260</td>\n",
              "      <td>20</td>\n",
              "      <td>4</td>\n",
              "      <td>167</td>\n",
              "    </tr>\n",
              "    <tr>\n",
              "      <th>4</th>\n",
              "      <td>002be0ffdc997bd5c50703158b7c2491</td>\n",
              "      <td>2016-03-29 00:00:00</td>\n",
              "      <td>034f2e614a2f9fc7f1c2f77647d1b981</td>\n",
              "      <td>4115</td>\n",
              "      <td>823</td>\n",
              "      <td>100</td>\n",
              "      <td>2016-04-20 22:05:32</td>\n",
              "      <td>2016-04-20 22:07:03</td>\n",
              "      <td>2016-04-20 22:20:45</td>\n",
              "      <td>2016-04-20 22:07:02</td>\n",
              "      <td>2016-04-20 22:05:30</td>\n",
              "      <td>2.556942</td>\n",
              "      <td>13.716667</td>\n",
              "      <td>12.733039</td>\n",
              "      <td>4.933260</td>\n",
              "      <td>16</td>\n",
              "      <td>2</td>\n",
              "      <td>91</td>\n",
              "    </tr>\n",
              "  </tbody>\n",
              "</table>\n",
              "</div>"
            ],
            "text/plain": [
              "                          driver_id  driver_onboard_date  \\\n",
              "0  002be0ffdc997bd5c50703158b7c2491  2016-03-29 00:00:00   \n",
              "1  002be0ffdc997bd5c50703158b7c2491  2016-03-29 00:00:00   \n",
              "2  002be0ffdc997bd5c50703158b7c2491  2016-03-29 00:00:00   \n",
              "3  002be0ffdc997bd5c50703158b7c2491  2016-03-29 00:00:00   \n",
              "4  002be0ffdc997bd5c50703158b7c2491  2016-03-29 00:00:00   \n",
              "\n",
              "                            ride_id  ride_distance  ride_duration  \\\n",
              "0  006d61cf7446e682f7bc50b0f8a5bea5           1811            327   \n",
              "1  01b522c5c3a756fbdb12e95e87507eda           3362            809   \n",
              "2  029227c4c2971ce69ff2274dc798ef43           3282            572   \n",
              "3  034e861343a63ac3c18a9ceb1ce0ac69          65283           3338   \n",
              "4  034f2e614a2f9fc7f1c2f77647d1b981           4115            823   \n",
              "\n",
              "   ride_prime_time         accepted_at          arrived_at  \\\n",
              "0               50 2016-04-23 02:14:15 2016-04-23 02:16:36   \n",
              "1                0 2016-03-29 19:00:52 2016-03-29 19:03:57   \n",
              "2                0 2016-06-21 11:56:39 2016-06-21 12:01:32   \n",
              "3               25 2016-05-19 09:15:33 2016-05-19 09:18:20   \n",
              "4              100 2016-04-20 22:05:32 2016-04-20 22:07:03   \n",
              "\n",
              "       dropped_off_at        picked_up_at        requested_at  \\\n",
              "0 2016-04-23 02:22:07 2016-04-23 02:16:40 2016-04-23 02:13:50   \n",
              "1 2016-03-29 19:17:30 2016-03-29 19:04:01 2016-03-29 19:00:49   \n",
              "2 2016-06-21 12:11:07 2016-06-21 12:01:35 2016-06-21 11:56:31   \n",
              "3 2016-05-19 10:13:58 2016-05-19 09:18:20 2016-05-19 09:15:29   \n",
              "4 2016-04-20 22:20:45 2016-04-20 22:07:02 2016-04-20 22:05:30   \n",
              "\n",
              "   ride_distance_miles  ride_duration_minutes  driver_earning  lyft_earning  \\\n",
              "0             1.125303               5.450000        5.391718      3.097929   \n",
              "1             2.089049              13.483333        5.894992      3.223748   \n",
              "2             2.039340               9.533333        5.154059      3.038515   \n",
              "3            40.564963              55.633333       60.889041     16.972260   \n",
              "4             2.556942              13.716667       12.733039      4.933260   \n",
              "\n",
              "   dropped_off_at_weekno  requested_accepted_gap_sec  accepted_arrived_gap_sec  \n",
              "0                     16                          25                       141  \n",
              "1                     13                           3                       185  \n",
              "2                     25                           8                       293  \n",
              "3                     20                           4                       167  \n",
              "4                     16                           2                        91  "
            ]
          },
          "execution_count": 33,
          "metadata": {},
          "output_type": "execute_result"
        }
      ],
      "source": [
        "df_fare_calculations.head()"
      ]
    },
    {
      "cell_type": "markdown",
      "metadata": {
        "id": "UgCteBpY8hNl"
      },
      "source": [
        "## d) Summarizing data##"
      ]
    },
    {
      "cell_type": "markdown",
      "metadata": {
        "id": "N5ZDyz1t8hNl"
      },
      "source": [
        "**1. Summary by drivers per week**"
      ]
    },
    {
      "cell_type": "code",
      "execution_count": null,
      "metadata": {
        "id": "NiFhFWgG8hNl",
        "outputId": "346c9ea9-0f8c-43a6-82b0-cc08d58ae54b"
      },
      "outputs": [
        {
          "data": {
            "text/html": [
              "<div>\n",
              "<style scoped>\n",
              "    .dataframe tbody tr th:only-of-type {\n",
              "        vertical-align: middle;\n",
              "    }\n",
              "\n",
              "    .dataframe tbody tr th {\n",
              "        vertical-align: top;\n",
              "    }\n",
              "\n",
              "    .dataframe thead th {\n",
              "        text-align: right;\n",
              "    }\n",
              "</style>\n",
              "<table border=\"1\" class=\"dataframe\">\n",
              "  <thead>\n",
              "    <tr style=\"text-align: right;\">\n",
              "      <th></th>\n",
              "      <th>driver_id</th>\n",
              "      <th>dropped_off_at_weekno</th>\n",
              "      <th>ride_id_count</th>\n",
              "      <th>ride_distance_miles_mean</th>\n",
              "      <th>ride_duration_minutes_mean</th>\n",
              "      <th>ride_prime_time_mean</th>\n",
              "      <th>driver_earning_sum</th>\n",
              "      <th>lyft_earning_sum</th>\n",
              "      <th>dropped_off_at_max</th>\n",
              "      <th>driver_onboard_date_max</th>\n",
              "      <th>requested_accepted_gap_sec_mean</th>\n",
              "      <th>accepted_arrived_gap_sec_mean</th>\n",
              "    </tr>\n",
              "  </thead>\n",
              "  <tbody>\n",
              "    <tr>\n",
              "      <th>0</th>\n",
              "      <td>002be0ffdc997bd5c50703158b7c2491</td>\n",
              "      <td>13</td>\n",
              "      <td>26</td>\n",
              "      <td>2.539902</td>\n",
              "      <td>10.542308</td>\n",
              "      <td>8.653846</td>\n",
              "      <td>171.444885</td>\n",
              "      <td>86.308688</td>\n",
              "      <td>2016-04-02 02:21:12</td>\n",
              "      <td>2016-03-29 00:00:00</td>\n",
              "      <td>7.961538</td>\n",
              "      <td>163.307692</td>\n",
              "    </tr>\n",
              "    <tr>\n",
              "      <th>1</th>\n",
              "      <td>002be0ffdc997bd5c50703158b7c2491</td>\n",
              "      <td>14</td>\n",
              "      <td>11</td>\n",
              "      <td>3.567799</td>\n",
              "      <td>10.818182</td>\n",
              "      <td>29.545455</td>\n",
              "      <td>100.996874</td>\n",
              "      <td>43.506943</td>\n",
              "      <td>2016-04-10 02:17:55</td>\n",
              "      <td>2016-03-29 00:00:00</td>\n",
              "      <td>46.909091</td>\n",
              "      <td>161.181818</td>\n",
              "    </tr>\n",
              "    <tr>\n",
              "      <th>2</th>\n",
              "      <td>002be0ffdc997bd5c50703158b7c2491</td>\n",
              "      <td>15</td>\n",
              "      <td>43</td>\n",
              "      <td>3.904580</td>\n",
              "      <td>12.600388</td>\n",
              "      <td>17.441860</td>\n",
              "      <td>369.726658</td>\n",
              "      <td>165.337680</td>\n",
              "      <td>2016-04-17 02:03:07</td>\n",
              "      <td>2016-03-29 00:00:00</td>\n",
              "      <td>4.627907</td>\n",
              "      <td>158.930233</td>\n",
              "    </tr>\n",
              "    <tr>\n",
              "      <th>3</th>\n",
              "      <td>002be0ffdc997bd5c50703158b7c2491</td>\n",
              "      <td>16</td>\n",
              "      <td>29</td>\n",
              "      <td>3.900860</td>\n",
              "      <td>12.744828</td>\n",
              "      <td>23.275862</td>\n",
              "      <td>267.945460</td>\n",
              "      <td>116.214878</td>\n",
              "      <td>2016-04-24 02:19:26</td>\n",
              "      <td>2016-03-29 00:00:00</td>\n",
              "      <td>5.310345</td>\n",
              "      <td>164.517241</td>\n",
              "    </tr>\n",
              "    <tr>\n",
              "      <th>4</th>\n",
              "      <td>002be0ffdc997bd5c50703158b7c2491</td>\n",
              "      <td>17</td>\n",
              "      <td>3</td>\n",
              "      <td>1.480520</td>\n",
              "      <td>8.900000</td>\n",
              "      <td>8.333333</td>\n",
              "      <td>16.760030</td>\n",
              "      <td>8.878695</td>\n",
              "      <td>2016-04-27 17:24:45</td>\n",
              "      <td>2016-03-29 00:00:00</td>\n",
              "      <td>12.333333</td>\n",
              "      <td>102.000000</td>\n",
              "    </tr>\n",
              "  </tbody>\n",
              "</table>\n",
              "</div>"
            ],
            "text/plain": [
              "                          driver_id  dropped_off_at_weekno  ride_id_count  \\\n",
              "0  002be0ffdc997bd5c50703158b7c2491                     13             26   \n",
              "1  002be0ffdc997bd5c50703158b7c2491                     14             11   \n",
              "2  002be0ffdc997bd5c50703158b7c2491                     15             43   \n",
              "3  002be0ffdc997bd5c50703158b7c2491                     16             29   \n",
              "4  002be0ffdc997bd5c50703158b7c2491                     17              3   \n",
              "\n",
              "   ride_distance_miles_mean  ride_duration_minutes_mean  ride_prime_time_mean  \\\n",
              "0                  2.539902                   10.542308              8.653846   \n",
              "1                  3.567799                   10.818182             29.545455   \n",
              "2                  3.904580                   12.600388             17.441860   \n",
              "3                  3.900860                   12.744828             23.275862   \n",
              "4                  1.480520                    8.900000              8.333333   \n",
              "\n",
              "   driver_earning_sum  lyft_earning_sum  dropped_off_at_max  \\\n",
              "0          171.444885         86.308688 2016-04-02 02:21:12   \n",
              "1          100.996874         43.506943 2016-04-10 02:17:55   \n",
              "2          369.726658        165.337680 2016-04-17 02:03:07   \n",
              "3          267.945460        116.214878 2016-04-24 02:19:26   \n",
              "4           16.760030          8.878695 2016-04-27 17:24:45   \n",
              "\n",
              "  driver_onboard_date_max  requested_accepted_gap_sec_mean  \\\n",
              "0     2016-03-29 00:00:00                         7.961538   \n",
              "1     2016-03-29 00:00:00                        46.909091   \n",
              "2     2016-03-29 00:00:00                         4.627907   \n",
              "3     2016-03-29 00:00:00                         5.310345   \n",
              "4     2016-03-29 00:00:00                        12.333333   \n",
              "\n",
              "   accepted_arrived_gap_sec_mean  \n",
              "0                     163.307692  \n",
              "1                     161.181818  \n",
              "2                     158.930233  \n",
              "3                     164.517241  \n",
              "4                     102.000000  "
            ]
          },
          "execution_count": 34,
          "metadata": {},
          "output_type": "execute_result"
        }
      ],
      "source": [
        "df_summ_driver_weekly = df_fare_calculations[['driver_id','ride_id','ride_distance_miles','ride_duration_minutes','ride_prime_time','driver_earning','lyft_earning','dropped_off_at_weekno','dropped_off_at','driver_onboard_date','requested_accepted_gap_sec','accepted_arrived_gap_sec']].groupby(['driver_id','dropped_off_at_weekno']).agg({'ride_id':['count'],'ride_distance_miles':['mean'],'ride_duration_minutes':['mean'],'ride_prime_time':['mean'],'driver_earning':['sum'],'lyft_earning':['sum'],'dropped_off_at':['max'],'driver_onboard_date':['max'],'requested_accepted_gap_sec':['mean'],'accepted_arrived_gap_sec':['mean']})\n",
        "df_summ_driver_weekly.columns = [\"_\".join(x) for x in df_summ_driver_weekly.columns.ravel()]\n",
        "df_summ_driver_weekly.reset_index(inplace=True)\n",
        "df_summ_driver_weekly.head()"
      ]
    },
    {
      "cell_type": "markdown",
      "metadata": {
        "id": "pO_DZb0I8hNl"
      },
      "source": [
        "**2. Summary by drivers**"
      ]
    },
    {
      "cell_type": "code",
      "execution_count": null,
      "metadata": {
        "id": "b5kVW8cn8hNl"
      },
      "outputs": [],
      "source": [
        "df_summ_driver = df_summ_driver_weekly[['driver_id','ride_id_count','ride_distance_miles_mean','ride_duration_minutes_mean','ride_prime_time_mean','driver_earning_sum','lyft_earning_sum','dropped_off_at_max','driver_onboard_date_max','requested_accepted_gap_sec_mean','accepted_arrived_gap_sec_mean']].groupby(['driver_id']).agg({'ride_id_count':['sum'],'ride_distance_miles_mean':['mean'],'ride_duration_minutes_mean':['mean'],'ride_prime_time_mean':['mean'],'driver_earning_sum':['sum'],'lyft_earning_sum':['sum'],'dropped_off_at_max':['max'],'driver_onboard_date_max':['max'],'requested_accepted_gap_sec_mean':['mean'],'accepted_arrived_gap_sec_mean':['mean']})\n",
        "df_summ_driver.columns = df_summ_driver.columns.droplevel(1)\n",
        "df_summ_driver.reset_index(inplace=True)"
      ]
    },
    {
      "cell_type": "code",
      "execution_count": null,
      "metadata": {
        "scrolled": true,
        "id": "QTDjfUHZ8hNl",
        "outputId": "27b1ddcf-a1bd-4e1e-f2b2-09e2fc982870"
      },
      "outputs": [
        {
          "data": {
            "text/html": [
              "<div>\n",
              "<style scoped>\n",
              "    .dataframe tbody tr th:only-of-type {\n",
              "        vertical-align: middle;\n",
              "    }\n",
              "\n",
              "    .dataframe tbody tr th {\n",
              "        vertical-align: top;\n",
              "    }\n",
              "\n",
              "    .dataframe thead th {\n",
              "        text-align: right;\n",
              "    }\n",
              "</style>\n",
              "<table border=\"1\" class=\"dataframe\">\n",
              "  <thead>\n",
              "    <tr style=\"text-align: right;\">\n",
              "      <th></th>\n",
              "      <th>driver_id</th>\n",
              "      <th>ride_id_count</th>\n",
              "      <th>ride_distance_miles_mean</th>\n",
              "      <th>ride_duration_minutes_mean</th>\n",
              "      <th>ride_prime_time_mean</th>\n",
              "      <th>driver_earning_sum</th>\n",
              "      <th>lyft_earning_sum</th>\n",
              "      <th>dropped_off_at_max</th>\n",
              "      <th>driver_onboard_date_max</th>\n",
              "      <th>requested_accepted_gap_sec_mean</th>\n",
              "      <th>accepted_arrived_gap_sec_mean</th>\n",
              "    </tr>\n",
              "  </thead>\n",
              "  <tbody>\n",
              "    <tr>\n",
              "      <th>0</th>\n",
              "      <td>002be0ffdc997bd5c50703158b7c2491</td>\n",
              "      <td>277</td>\n",
              "      <td>3.685312</td>\n",
              "      <td>12.768153</td>\n",
              "      <td>18.647499</td>\n",
              "      <td>2526.858128</td>\n",
              "      <td>1099.909163</td>\n",
              "      <td>2016-06-23 10:29:53</td>\n",
              "      <td>2016-03-29 00:00:00</td>\n",
              "      <td>10.798463</td>\n",
              "      <td>167.430474</td>\n",
              "    </tr>\n",
              "    <tr>\n",
              "      <th>1</th>\n",
              "      <td>007f0389f9c7b03ef97098422f902e62</td>\n",
              "      <td>31</td>\n",
              "      <td>2.313997</td>\n",
              "      <td>10.963333</td>\n",
              "      <td>20.648148</td>\n",
              "      <td>223.188647</td>\n",
              "      <td>107.698933</td>\n",
              "      <td>2016-06-22 13:28:38</td>\n",
              "      <td>2016-03-29 00:00:00</td>\n",
              "      <td>10.488889</td>\n",
              "      <td>205.518519</td>\n",
              "    </tr>\n",
              "    <tr>\n",
              "      <th>2</th>\n",
              "      <td>011e5c5dfc5c2c92501b8b24d47509bc</td>\n",
              "      <td>34</td>\n",
              "      <td>6.045286</td>\n",
              "      <td>15.736414</td>\n",
              "      <td>19.754464</td>\n",
              "      <td>345.327005</td>\n",
              "      <td>144.085558</td>\n",
              "      <td>2016-06-12 20:30:38</td>\n",
              "      <td>2016-04-05 00:00:00</td>\n",
              "      <td>7.409821</td>\n",
              "      <td>212.032143</td>\n",
              "    </tr>\n",
              "    <tr>\n",
              "      <th>3</th>\n",
              "      <td>0152a2f305e71d26cc964f8d4411add9</td>\n",
              "      <td>191</td>\n",
              "      <td>4.798184</td>\n",
              "      <td>15.159162</td>\n",
              "      <td>11.124694</td>\n",
              "      <td>1869.835875</td>\n",
              "      <td>789.179684</td>\n",
              "      <td>2016-06-26 10:36:13</td>\n",
              "      <td>2016-04-23 00:00:00</td>\n",
              "      <td>14.829329</td>\n",
              "      <td>235.496884</td>\n",
              "    </tr>\n",
              "    <tr>\n",
              "      <th>4</th>\n",
              "      <td>01674381af7edd264113d4e6ed55ecda</td>\n",
              "      <td>375</td>\n",
              "      <td>5.377523</td>\n",
              "      <td>16.144313</td>\n",
              "      <td>11.474489</td>\n",
              "      <td>3854.045562</td>\n",
              "      <td>1601.193268</td>\n",
              "      <td>2016-06-24 13:27:38</td>\n",
              "      <td>2016-04-29 00:00:00</td>\n",
              "      <td>13.128968</td>\n",
              "      <td>215.301245</td>\n",
              "    </tr>\n",
              "  </tbody>\n",
              "</table>\n",
              "</div>"
            ],
            "text/plain": [
              "                          driver_id  ride_id_count  ride_distance_miles_mean  \\\n",
              "0  002be0ffdc997bd5c50703158b7c2491            277                  3.685312   \n",
              "1  007f0389f9c7b03ef97098422f902e62             31                  2.313997   \n",
              "2  011e5c5dfc5c2c92501b8b24d47509bc             34                  6.045286   \n",
              "3  0152a2f305e71d26cc964f8d4411add9            191                  4.798184   \n",
              "4  01674381af7edd264113d4e6ed55ecda            375                  5.377523   \n",
              "\n",
              "   ride_duration_minutes_mean  ride_prime_time_mean  driver_earning_sum  \\\n",
              "0                   12.768153             18.647499         2526.858128   \n",
              "1                   10.963333             20.648148          223.188647   \n",
              "2                   15.736414             19.754464          345.327005   \n",
              "3                   15.159162             11.124694         1869.835875   \n",
              "4                   16.144313             11.474489         3854.045562   \n",
              "\n",
              "   lyft_earning_sum  dropped_off_at_max driver_onboard_date_max  \\\n",
              "0       1099.909163 2016-06-23 10:29:53     2016-03-29 00:00:00   \n",
              "1        107.698933 2016-06-22 13:28:38     2016-03-29 00:00:00   \n",
              "2        144.085558 2016-06-12 20:30:38     2016-04-05 00:00:00   \n",
              "3        789.179684 2016-06-26 10:36:13     2016-04-23 00:00:00   \n",
              "4       1601.193268 2016-06-24 13:27:38     2016-04-29 00:00:00   \n",
              "\n",
              "   requested_accepted_gap_sec_mean  accepted_arrived_gap_sec_mean  \n",
              "0                        10.798463                     167.430474  \n",
              "1                        10.488889                     205.518519  \n",
              "2                         7.409821                     212.032143  \n",
              "3                        14.829329                     235.496884  \n",
              "4                        13.128968                     215.301245  "
            ]
          },
          "execution_count": 36,
          "metadata": {},
          "output_type": "execute_result"
        }
      ],
      "source": [
        "df_summ_driver.head()"
      ]
    },
    {
      "cell_type": "code",
      "execution_count": null,
      "metadata": {
        "id": "HzqkLij58hNl",
        "outputId": "bdc2e136-bd14-4446-ef0e-c4486ef6aa4c"
      },
      "outputs": [
        {
          "data": {
            "text/html": [
              "<div>\n",
              "<style scoped>\n",
              "    .dataframe tbody tr th:only-of-type {\n",
              "        vertical-align: middle;\n",
              "    }\n",
              "\n",
              "    .dataframe tbody tr th {\n",
              "        vertical-align: top;\n",
              "    }\n",
              "\n",
              "    .dataframe thead th {\n",
              "        text-align: right;\n",
              "    }\n",
              "</style>\n",
              "<table border=\"1\" class=\"dataframe\">\n",
              "  <thead>\n",
              "    <tr style=\"text-align: right;\">\n",
              "      <th></th>\n",
              "      <th>ride_id_count</th>\n",
              "      <th>ride_distance_miles_mean</th>\n",
              "      <th>ride_duration_minutes_mean</th>\n",
              "      <th>ride_prime_time_mean</th>\n",
              "      <th>driver_earning_sum</th>\n",
              "      <th>lyft_earning_sum</th>\n",
              "      <th>requested_accepted_gap_sec_mean</th>\n",
              "      <th>accepted_arrived_gap_sec_mean</th>\n",
              "    </tr>\n",
              "  </thead>\n",
              "  <tbody>\n",
              "    <tr>\n",
              "      <th>count</th>\n",
              "      <td>837.000000</td>\n",
              "      <td>837.000000</td>\n",
              "      <td>837.000000</td>\n",
              "      <td>837.000000</td>\n",
              "      <td>837.000000</td>\n",
              "      <td>837.000000</td>\n",
              "      <td>837.000000</td>\n",
              "      <td>837.000000</td>\n",
              "    </tr>\n",
              "    <tr>\n",
              "      <th>mean</th>\n",
              "      <td>220.080048</td>\n",
              "      <td>4.606478</td>\n",
              "      <td>14.480658</td>\n",
              "      <td>15.748653</td>\n",
              "      <td>2129.618653</td>\n",
              "      <td>903.948134</td>\n",
              "      <td>11.895043</td>\n",
              "      <td>271.373761</td>\n",
              "    </tr>\n",
              "    <tr>\n",
              "      <th>std</th>\n",
              "      <td>178.180798</td>\n",
              "      <td>1.484297</td>\n",
              "      <td>2.099088</td>\n",
              "      <td>7.233765</td>\n",
              "      <td>1729.466974</td>\n",
              "      <td>730.537079</td>\n",
              "      <td>4.244357</td>\n",
              "      <td>89.336819</td>\n",
              "    </tr>\n",
              "    <tr>\n",
              "      <th>min</th>\n",
              "      <td>3.000000</td>\n",
              "      <td>2.049489</td>\n",
              "      <td>8.677341</td>\n",
              "      <td>0.000000</td>\n",
              "      <td>18.753044</td>\n",
              "      <td>9.119614</td>\n",
              "      <td>3.861280</td>\n",
              "      <td>96.133333</td>\n",
              "    </tr>\n",
              "    <tr>\n",
              "      <th>25%</th>\n",
              "      <td>44.000000</td>\n",
              "      <td>3.642367</td>\n",
              "      <td>13.128266</td>\n",
              "      <td>11.244048</td>\n",
              "      <td>441.540605</td>\n",
              "      <td>185.357656</td>\n",
              "      <td>9.408398</td>\n",
              "      <td>209.142207</td>\n",
              "    </tr>\n",
              "    <tr>\n",
              "      <th>50%</th>\n",
              "      <td>224.000000</td>\n",
              "      <td>4.255811</td>\n",
              "      <td>14.327222</td>\n",
              "      <td>15.578808</td>\n",
              "      <td>2110.177581</td>\n",
              "      <td>903.816520</td>\n",
              "      <td>10.999895</td>\n",
              "      <td>251.520546</td>\n",
              "    </tr>\n",
              "    <tr>\n",
              "      <th>75%</th>\n",
              "      <td>330.000000</td>\n",
              "      <td>5.225177</td>\n",
              "      <td>15.491650</td>\n",
              "      <td>19.607582</td>\n",
              "      <td>3215.911567</td>\n",
              "      <td>1362.812412</td>\n",
              "      <td>13.277955</td>\n",
              "      <td>311.586703</td>\n",
              "    </tr>\n",
              "    <tr>\n",
              "      <th>max</th>\n",
              "      <td>919.000000</td>\n",
              "      <td>13.365086</td>\n",
              "      <td>27.344382</td>\n",
              "      <td>58.119381</td>\n",
              "      <td>8964.367766</td>\n",
              "      <td>3756.365749</td>\n",
              "      <td>37.866837</td>\n",
              "      <td>751.022222</td>\n",
              "    </tr>\n",
              "  </tbody>\n",
              "</table>\n",
              "</div>"
            ],
            "text/plain": [
              "       ride_id_count  ride_distance_miles_mean  ride_duration_minutes_mean  \\\n",
              "count     837.000000                837.000000                  837.000000   \n",
              "mean      220.080048                  4.606478                   14.480658   \n",
              "std       178.180798                  1.484297                    2.099088   \n",
              "min         3.000000                  2.049489                    8.677341   \n",
              "25%        44.000000                  3.642367                   13.128266   \n",
              "50%       224.000000                  4.255811                   14.327222   \n",
              "75%       330.000000                  5.225177                   15.491650   \n",
              "max       919.000000                 13.365086                   27.344382   \n",
              "\n",
              "       ride_prime_time_mean  driver_earning_sum  lyft_earning_sum  \\\n",
              "count            837.000000          837.000000        837.000000   \n",
              "mean              15.748653         2129.618653        903.948134   \n",
              "std                7.233765         1729.466974        730.537079   \n",
              "min                0.000000           18.753044          9.119614   \n",
              "25%               11.244048          441.540605        185.357656   \n",
              "50%               15.578808         2110.177581        903.816520   \n",
              "75%               19.607582         3215.911567       1362.812412   \n",
              "max               58.119381         8964.367766       3756.365749   \n",
              "\n",
              "       requested_accepted_gap_sec_mean  accepted_arrived_gap_sec_mean  \n",
              "count                       837.000000                     837.000000  \n",
              "mean                         11.895043                     271.373761  \n",
              "std                           4.244357                      89.336819  \n",
              "min                           3.861280                      96.133333  \n",
              "25%                           9.408398                     209.142207  \n",
              "50%                          10.999895                     251.520546  \n",
              "75%                          13.277955                     311.586703  \n",
              "max                          37.866837                     751.022222  "
            ]
          },
          "execution_count": 37,
          "metadata": {},
          "output_type": "execute_result"
        }
      ],
      "source": [
        "df_summ_driver.describe()"
      ]
    },
    {
      "cell_type": "markdown",
      "metadata": {
        "id": "SVX3955y8hNm"
      },
      "source": [
        "# 4) Modeling"
      ]
    },
    {
      "cell_type": "markdown",
      "metadata": {
        "id": "WtqqTUsH8hNm"
      },
      "source": [
        "## a) Calculating Drivers Lifetime Value##"
      ]
    },
    {
      "cell_type": "markdown",
      "metadata": {
        "id": "krFw9-yb8hNm"
      },
      "source": [
        ">Drivers Lifetime Value is calculated as below: <br>\n",
        ">>Step 1: Calculate churn rate <br>\n",
        ">>Step 2: Calculate average lifespan of a driver <br>\n",
        ">>Step 3: Calculate Lyft's marginal earning per driver per week <br>\n",
        ">>Step 4: Multiple average lifespan of a driver to Lyft's marginal earning per driver per week"
      ]
    },
    {
      "cell_type": "markdown",
      "metadata": {
        "id": "CQNw1-Rn8hNm"
      },
      "source": [
        "**Step 1: Calculating Churn Rate**"
      ]
    },
    {
      "cell_type": "code",
      "execution_count": null,
      "metadata": {
        "id": "LqrzeHVc8hNm"
      },
      "outputs": [],
      "source": [
        "df_weekly_summary = df_summ_driver_weekly"
      ]
    },
    {
      "cell_type": "code",
      "execution_count": null,
      "metadata": {
        "scrolled": true,
        "id": "7TabrLk18hNm"
      },
      "outputs": [],
      "source": [
        "def churn_model(churn_drop_parameter,churn_time_parameter,):\n",
        "\n",
        "    # Determining running average\n",
        "    df_weekly_summary['running_avg'] = ''\n",
        "    for i in range(0,len(df_weekly_summary)):\n",
        "        if i == 0:\n",
        "            df_weekly_summary.loc[i,'running_avg'] = df_weekly_summary.loc[i,'driver_earning_sum']\n",
        "        elif i == 1:\n",
        "            df_weekly_summary.loc[i,'running_avg'] = df_weekly_summary.loc[i-1,'driver_earning_sum']\n",
        "        elif i == 2:\n",
        "            df_weekly_summary.loc[i,'running_avg'] = (df_weekly_summary.loc[i-2,'driver_earning_sum'] + df_weekly_summary.loc[i-1,'driver_earning_sum'])/2\n",
        "        else:\n",
        "            df_weekly_summary.loc[i,'running_avg'] = (df_weekly_summary.loc[i-3,'driver_earning_sum'] + df_weekly_summary.loc[i-2,'driver_earning_sum'] + df_weekly_summary.loc[i-1,'driver_earning_sum']) / 3\n",
        "\n",
        "    # Determining drivers earning performance\n",
        "    df_weekly_summary['driver_earning_performance'] = df_weekly_summary.apply(lambda row: row.driver_earning_sum - row.running_avg,axis=1)\n",
        "    df_weekly_summary['driver_earning_performance_percent'] = df_weekly_summary.apply(lambda row: (row.driver_earning_performance/row.running_avg) * 100,axis=1)\n",
        "\n",
        "    # Drivers churn indicatore is set if performance percent is less that churn drop parameter\n",
        "    df_weekly_summary['driver_churn_indicator'] = df_weekly_summary['driver_earning_performance_percent'].apply(lambda x: 1 if x < churn_drop_parameter else 0)\n",
        "\n",
        "    df_driver_summary = df_weekly_summary[['driver_id','ride_id_count','ride_distance_miles_mean','ride_duration_minutes_mean','ride_prime_time_mean','driver_earning_sum','lyft_earning_sum','dropped_off_at_max','driver_onboard_date_max','requested_accepted_gap_sec_mean','accepted_arrived_gap_sec_mean','driver_churn_indicator']].groupby(['driver_id']).agg({'ride_id_count':['sum'],'ride_distance_miles_mean':['mean'],'ride_duration_minutes_mean':['mean'],'ride_prime_time_mean':['mean'],'driver_earning_sum':['sum'],'lyft_earning_sum':['sum'],'dropped_off_at_max':['max'],'driver_onboard_date_max':['max'],'requested_accepted_gap_sec_mean':['mean'],'accepted_arrived_gap_sec_mean':['mean'],'driver_churn_indicator':['sum']})\n",
        "    df_driver_summary.columns = df_driver_summary.columns.droplevel(1)\n",
        "    df_driver_summary.reset_index(inplace=True)\n",
        "\n",
        "    # Drivers churn flag is set if number of churns is more that churn time parameter\n",
        "    df_driver_summary['driver_churn_flag'] = df_driver_summary['driver_churn_indicator'].apply(lambda x: True if x > churn_time_parameter else False)\n",
        "\n",
        "    churn_rate =  (len(df_driver_summary[df_driver_summary.driver_churn_flag == True]) / df_driver_summary.shape[0])* 100\n",
        "\n",
        "    return churn_rate, df_driver_summary"
      ]
    },
    {
      "cell_type": "code",
      "execution_count": null,
      "metadata": {
        "scrolled": true,
        "id": "d05rndpt8hNm",
        "outputId": "71e99965-a184-4001-a8dc-3a659e4e9402"
      },
      "outputs": [
        {
          "name": "stdout",
          "output_type": "stream",
          "text": [
            "Average churn rate over 13 week: 20.78853046594982 percent\n",
            "Average churn rate per week: 1.599117728149986 percent\n"
          ]
        }
      ],
      "source": [
        "churn_rate, df_driver_summary = churn_model(-40,3)\n",
        "print('Average churn rate over 13 week:', churn_rate , 'percent')\n",
        "print('Average churn rate per week:', churn_rate / 13, 'percent')"
      ]
    },
    {
      "cell_type": "markdown",
      "metadata": {
        "id": "HXO7FOQ_8hNn"
      },
      "source": [
        "**Step 2: Determining Average Lifespan of a driver**"
      ]
    },
    {
      "cell_type": "code",
      "execution_count": null,
      "metadata": {
        "id": "ggYvw5RW8hNn",
        "outputId": "a0f982cb-a77c-4e8a-ecc5-3f58136ed1a6"
      },
      "outputs": [
        {
          "name": "stdout",
          "output_type": "stream",
          "text": [
            "Average life span of a driver (in weeks): 62.53448275862069\n"
          ]
        }
      ],
      "source": [
        "avg_driver_lifespan = (13 / churn_rate) * 100\n",
        "print('Average life span of a driver (in weeks):', avg_driver_lifespan)"
      ]
    },
    {
      "cell_type": "markdown",
      "metadata": {
        "id": "lBBEq1dx8hNn"
      },
      "source": [
        "**Step 3: Calculate Lyft's marginal earning per driver per week**"
      ]
    },
    {
      "cell_type": "code",
      "execution_count": null,
      "metadata": {
        "scrolled": true,
        "id": "Ux5Ku9NM8hNn",
        "outputId": "35d81924-5342-40dc-d77a-7fd0abc736ec"
      },
      "outputs": [
        {
          "name": "stdout",
          "output_type": "stream",
          "text": [
            "Average margin earning from a driver per week: 69.53447185751139\n"
          ]
        }
      ],
      "source": [
        "lyft_total_earning = df_summ_driver['lyft_earning_sum'].sum()\n",
        "number_of_weeks = abs((df_final_merge['dropped_off_at'].min() - df_final_merge['dropped_off_at'].max()).days / 7)\n",
        "number_of_drivers = df_final_merge['driver_id'].nunique()\n",
        "driver_avg_margin = lyft_total_earning / (number_of_weeks  * number_of_drivers)\n",
        "print('Average margin earning from a driver per week:', driver_avg_margin)"
      ]
    },
    {
      "cell_type": "markdown",
      "metadata": {
        "id": "tUWL6H7f8hNn"
      },
      "source": [
        "**Step 4: Multiple average lifespan of a driver to Lyft's marginal earning per driver per week**"
      ]
    },
    {
      "cell_type": "code",
      "execution_count": null,
      "metadata": {
        "scrolled": true,
        "id": "ZH644CIQ8hNn",
        "outputId": "e48e4ee8-b276-454e-cd3a-e3d6f6146f6f"
      },
      "outputs": [
        {
          "name": "stdout",
          "output_type": "stream",
          "text": [
            "Lifetime Value of a driver based on 13 weeks of data: 4348.302231503341\n"
          ]
        }
      ],
      "source": [
        "driver_lifetime_value = avg_driver_lifespan * driver_avg_margin\n",
        "print('Lifetime Value of a driver based on 13 weeks of data:',driver_lifetime_value)"
      ]
    },
    {
      "cell_type": "markdown",
      "metadata": {
        "id": "02RbV8AP8hNn"
      },
      "source": [
        "## b) Predictive Indicators for drivers churn##"
      ]
    },
    {
      "cell_type": "code",
      "execution_count": null,
      "metadata": {
        "scrolled": false,
        "id": "_aLFO0nu8hNo",
        "outputId": "acf1014e-c71a-49d3-b9f7-5d3a596602f6"
      },
      "outputs": [
        {
          "name": "stdout",
          "output_type": "stream",
          "text": [
            "<class 'pandas.core.frame.DataFrame'>\n",
            "RangeIndex: 837 entries, 0 to 836\n",
            "Data columns (total 13 columns):\n",
            "driver_id                          837 non-null object\n",
            "ride_id_count                      837 non-null int64\n",
            "ride_distance_miles_mean           837 non-null float64\n",
            "ride_duration_minutes_mean         837 non-null float64\n",
            "ride_prime_time_mean               837 non-null float64\n",
            "driver_earning_sum                 837 non-null float64\n",
            "lyft_earning_sum                   837 non-null float64\n",
            "dropped_off_at_max                 837 non-null datetime64[ns]\n",
            "driver_onboard_date_max            837 non-null object\n",
            "requested_accepted_gap_sec_mean    837 non-null float64\n",
            "accepted_arrived_gap_sec_mean      837 non-null float64\n",
            "driver_churn_indicator             837 non-null int64\n",
            "driver_churn_flag                  837 non-null bool\n",
            "dtypes: bool(1), datetime64[ns](1), float64(7), int64(2), object(2)\n",
            "memory usage: 79.4+ KB\n"
          ]
        }
      ],
      "source": [
        "df_driver_summary.info()"
      ]
    },
    {
      "cell_type": "code",
      "execution_count": null,
      "metadata": {
        "id": "eEXH1sG08hNo"
      },
      "outputs": [],
      "source": [
        "X = df_driver_summary.drop(['driver_id','driver_churn_flag','dropped_off_at_max','driver_onboard_date_max','driver_churn_indicator'], axis=1)\n",
        "y = df_driver_summary['driver_churn_flag']"
      ]
    },
    {
      "cell_type": "code",
      "execution_count": null,
      "metadata": {
        "id": "qCsVsGgs8hNo"
      },
      "outputs": [],
      "source": [
        "X_train, X_test, y_train, y_test = train_test_split(X, y, test_size=0.20)"
      ]
    },
    {
      "cell_type": "code",
      "execution_count": null,
      "metadata": {
        "id": "D7JXXOuY8hNo",
        "outputId": "6ab1c821-b1a0-4fed-d4be-ba40310239fd"
      },
      "outputs": [
        {
          "data": {
            "text/plain": [
              "DecisionTreeClassifier(class_weight=None, criterion='gini', max_depth=None,\n",
              "            max_features=None, max_leaf_nodes=None,\n",
              "            min_impurity_decrease=0.0, min_impurity_split=None,\n",
              "            min_samples_leaf=1, min_samples_split=2,\n",
              "            min_weight_fraction_leaf=0.0, presort=False, random_state=None,\n",
              "            splitter='best')"
            ]
          },
          "execution_count": 47,
          "metadata": {},
          "output_type": "execute_result"
        }
      ],
      "source": [
        "classifier = DecisionTreeClassifier()\n",
        "classifier.fit(X_train, y_train)"
      ]
    },
    {
      "cell_type": "code",
      "execution_count": null,
      "metadata": {
        "id": "AwySAwuV8hNo"
      },
      "outputs": [],
      "source": [
        "y_pred = classifier.predict(X_test)"
      ]
    },
    {
      "cell_type": "code",
      "execution_count": null,
      "metadata": {
        "id": "uvKPe5jn8hNo",
        "outputId": "c63cc50e-8a59-4f50-c248-afe846e09d7f"
      },
      "outputs": [
        {
          "name": "stdout",
          "output_type": "stream",
          "text": [
            "[[95 33]\n",
            " [32  8]]\n",
            "             precision    recall  f1-score   support\n",
            "\n",
            "      False       0.75      0.74      0.75       128\n",
            "       True       0.20      0.20      0.20        40\n",
            "\n",
            "avg / total       0.62      0.61      0.61       168\n",
            "\n"
          ]
        }
      ],
      "source": [
        "from sklearn.metrics import classification_report, confusion_matrix\n",
        "print(confusion_matrix(y_test, y_pred))\n",
        "print(classification_report(y_test, y_pred))"
      ]
    },
    {
      "cell_type": "code",
      "execution_count": null,
      "metadata": {
        "scrolled": true,
        "id": "duB_ntXR8hNo",
        "outputId": "cf07c58b-0f5b-4936-c9b6-24aa0594cd76"
      },
      "outputs": [
        {
          "name": "stdout",
          "output_type": "stream",
          "text": [
            "ride_id_count 0.05376885740108105\n",
            "ride_distance_miles_mean 0.10658322605866279\n",
            "ride_duration_minutes_mean 0.10969675138010536\n",
            "ride_prime_time_mean 0.22124064938473056\n",
            "driver_earning_sum 0.09961910116971853\n",
            "lyft_earning_sum 0.17076673747843593\n",
            "requested_accepted_gap_sec_mean 0.06747665316365932\n",
            "accepted_arrived_gap_sec_mean 0.17084802396360654\n"
          ]
        }
      ],
      "source": [
        "for name, importance in zip(X.columns, classifier.feature_importances_):\n",
        "    print(name, importance)"
      ]
    },
    {
      "cell_type": "code",
      "execution_count": null,
      "metadata": {
        "scrolled": true,
        "id": "IBp_jZDC8hNp",
        "outputId": "4f4eec9f-6e91-45f5-c0eb-9b3dd7adaee3"
      },
      "outputs": [
        {
          "data": {
            "text/html": [
              "<div>\n",
              "<style scoped>\n",
              "    .dataframe tbody tr th:only-of-type {\n",
              "        vertical-align: middle;\n",
              "    }\n",
              "\n",
              "    .dataframe tbody tr th {\n",
              "        vertical-align: top;\n",
              "    }\n",
              "\n",
              "    .dataframe thead th {\n",
              "        text-align: right;\n",
              "    }\n",
              "</style>\n",
              "<table border=\"1\" class=\"dataframe\">\n",
              "  <thead>\n",
              "    <tr style=\"text-align: right;\">\n",
              "      <th></th>\n",
              "      <th>driver_id</th>\n",
              "      <th>ride_id_count</th>\n",
              "      <th>ride_distance_miles_mean</th>\n",
              "      <th>ride_duration_minutes_mean</th>\n",
              "      <th>ride_prime_time_mean</th>\n",
              "      <th>driver_earning_sum</th>\n",
              "      <th>lyft_earning_sum</th>\n",
              "      <th>dropped_off_at_max</th>\n",
              "      <th>driver_onboard_date_max</th>\n",
              "      <th>requested_accepted_gap_sec_mean</th>\n",
              "      <th>accepted_arrived_gap_sec_mean</th>\n",
              "      <th>driver_churn_indicator</th>\n",
              "      <th>driver_churn_flag</th>\n",
              "    </tr>\n",
              "  </thead>\n",
              "  <tbody>\n",
              "    <tr>\n",
              "      <th>0</th>\n",
              "      <td>002be0ffdc997bd5c50703158b7c2491</td>\n",
              "      <td>277</td>\n",
              "      <td>3.685312</td>\n",
              "      <td>12.768153</td>\n",
              "      <td>18.647499</td>\n",
              "      <td>2526.858128</td>\n",
              "      <td>1099.909163</td>\n",
              "      <td>2016-06-23 10:29:53</td>\n",
              "      <td>2016-03-29 00:00:00</td>\n",
              "      <td>10.798463</td>\n",
              "      <td>167.430474</td>\n",
              "      <td>5</td>\n",
              "      <td>True</td>\n",
              "    </tr>\n",
              "    <tr>\n",
              "      <th>1</th>\n",
              "      <td>007f0389f9c7b03ef97098422f902e62</td>\n",
              "      <td>31</td>\n",
              "      <td>2.313997</td>\n",
              "      <td>10.963333</td>\n",
              "      <td>20.648148</td>\n",
              "      <td>223.188647</td>\n",
              "      <td>107.698933</td>\n",
              "      <td>2016-06-22 13:28:38</td>\n",
              "      <td>2016-03-29 00:00:00</td>\n",
              "      <td>10.488889</td>\n",
              "      <td>205.518519</td>\n",
              "      <td>5</td>\n",
              "      <td>True</td>\n",
              "    </tr>\n",
              "    <tr>\n",
              "      <th>2</th>\n",
              "      <td>011e5c5dfc5c2c92501b8b24d47509bc</td>\n",
              "      <td>34</td>\n",
              "      <td>6.045286</td>\n",
              "      <td>15.736414</td>\n",
              "      <td>19.754464</td>\n",
              "      <td>345.327005</td>\n",
              "      <td>144.085558</td>\n",
              "      <td>2016-06-12 20:30:38</td>\n",
              "      <td>2016-04-05 00:00:00</td>\n",
              "      <td>7.409821</td>\n",
              "      <td>212.032143</td>\n",
              "      <td>1</td>\n",
              "      <td>False</td>\n",
              "    </tr>\n",
              "    <tr>\n",
              "      <th>3</th>\n",
              "      <td>0152a2f305e71d26cc964f8d4411add9</td>\n",
              "      <td>191</td>\n",
              "      <td>4.798184</td>\n",
              "      <td>15.159162</td>\n",
              "      <td>11.124694</td>\n",
              "      <td>1869.835875</td>\n",
              "      <td>789.179684</td>\n",
              "      <td>2016-06-26 10:36:13</td>\n",
              "      <td>2016-04-23 00:00:00</td>\n",
              "      <td>14.829329</td>\n",
              "      <td>235.496884</td>\n",
              "      <td>0</td>\n",
              "      <td>False</td>\n",
              "    </tr>\n",
              "    <tr>\n",
              "      <th>4</th>\n",
              "      <td>01674381af7edd264113d4e6ed55ecda</td>\n",
              "      <td>375</td>\n",
              "      <td>5.377523</td>\n",
              "      <td>16.144313</td>\n",
              "      <td>11.474489</td>\n",
              "      <td>3854.045562</td>\n",
              "      <td>1601.193268</td>\n",
              "      <td>2016-06-24 13:27:38</td>\n",
              "      <td>2016-04-29 00:00:00</td>\n",
              "      <td>13.128968</td>\n",
              "      <td>215.301245</td>\n",
              "      <td>1</td>\n",
              "      <td>False</td>\n",
              "    </tr>\n",
              "  </tbody>\n",
              "</table>\n",
              "</div>"
            ],
            "text/plain": [
              "                          driver_id  ride_id_count  ride_distance_miles_mean  \\\n",
              "0  002be0ffdc997bd5c50703158b7c2491            277                  3.685312   \n",
              "1  007f0389f9c7b03ef97098422f902e62             31                  2.313997   \n",
              "2  011e5c5dfc5c2c92501b8b24d47509bc             34                  6.045286   \n",
              "3  0152a2f305e71d26cc964f8d4411add9            191                  4.798184   \n",
              "4  01674381af7edd264113d4e6ed55ecda            375                  5.377523   \n",
              "\n",
              "   ride_duration_minutes_mean  ride_prime_time_mean  driver_earning_sum  \\\n",
              "0                   12.768153             18.647499         2526.858128   \n",
              "1                   10.963333             20.648148          223.188647   \n",
              "2                   15.736414             19.754464          345.327005   \n",
              "3                   15.159162             11.124694         1869.835875   \n",
              "4                   16.144313             11.474489         3854.045562   \n",
              "\n",
              "   lyft_earning_sum  dropped_off_at_max driver_onboard_date_max  \\\n",
              "0       1099.909163 2016-06-23 10:29:53     2016-03-29 00:00:00   \n",
              "1        107.698933 2016-06-22 13:28:38     2016-03-29 00:00:00   \n",
              "2        144.085558 2016-06-12 20:30:38     2016-04-05 00:00:00   \n",
              "3        789.179684 2016-06-26 10:36:13     2016-04-23 00:00:00   \n",
              "4       1601.193268 2016-06-24 13:27:38     2016-04-29 00:00:00   \n",
              "\n",
              "   requested_accepted_gap_sec_mean  accepted_arrived_gap_sec_mean  \\\n",
              "0                        10.798463                     167.430474   \n",
              "1                        10.488889                     205.518519   \n",
              "2                         7.409821                     212.032143   \n",
              "3                        14.829329                     235.496884   \n",
              "4                        13.128968                     215.301245   \n",
              "\n",
              "   driver_churn_indicator  driver_churn_flag  \n",
              "0                       5               True  \n",
              "1                       5               True  \n",
              "2                       1              False  \n",
              "3                       0              False  \n",
              "4                       1              False  "
            ]
          },
          "execution_count": 51,
          "metadata": {},
          "output_type": "execute_result"
        }
      ],
      "source": [
        "df_driver_summary.head()"
      ]
    },
    {
      "cell_type": "code",
      "execution_count": null,
      "metadata": {
        "id": "W6GEnM8D8hNp",
        "outputId": "8341b0b5-a16b-4005-ff15-bc60f2e0ec78"
      },
      "outputs": [
        {
          "data": {
            "text/html": [
              "<div>\n",
              "<style scoped>\n",
              "    .dataframe tbody tr th:only-of-type {\n",
              "        vertical-align: middle;\n",
              "    }\n",
              "\n",
              "    .dataframe tbody tr th {\n",
              "        vertical-align: top;\n",
              "    }\n",
              "\n",
              "    .dataframe thead tr th {\n",
              "        text-align: left;\n",
              "    }\n",
              "\n",
              "    .dataframe thead tr:last-of-type th {\n",
              "        text-align: right;\n",
              "    }\n",
              "</style>\n",
              "<table border=\"1\" class=\"dataframe\">\n",
              "  <thead>\n",
              "    <tr>\n",
              "      <th></th>\n",
              "      <th>ride_id_count</th>\n",
              "      <th>ride_distance_miles_mean</th>\n",
              "      <th>ride_duration_minutes_mean</th>\n",
              "      <th>ride_prime_time_mean</th>\n",
              "      <th>driver_earning_sum</th>\n",
              "      <th>lyft_earning_sum</th>\n",
              "      <th>requested_accepted_gap_sec_mean</th>\n",
              "      <th>accepted_arrived_gap_sec_mean</th>\n",
              "    </tr>\n",
              "    <tr>\n",
              "      <th></th>\n",
              "      <th>mean</th>\n",
              "      <th>mean</th>\n",
              "      <th>mean</th>\n",
              "      <th>mean</th>\n",
              "      <th>mean</th>\n",
              "      <th>mean</th>\n",
              "      <th>mean</th>\n",
              "      <th>mean</th>\n",
              "    </tr>\n",
              "    <tr>\n",
              "      <th>driver_churn_flag</th>\n",
              "      <th></th>\n",
              "      <th></th>\n",
              "      <th></th>\n",
              "      <th></th>\n",
              "      <th></th>\n",
              "      <th></th>\n",
              "      <th></th>\n",
              "      <th></th>\n",
              "    </tr>\n",
              "  </thead>\n",
              "  <tbody>\n",
              "    <tr>\n",
              "      <th>False</th>\n",
              "      <td>235.592760</td>\n",
              "      <td>4.551973</td>\n",
              "      <td>14.441505</td>\n",
              "      <td>15.754629</td>\n",
              "      <td>2279.081470</td>\n",
              "      <td>967.484107</td>\n",
              "      <td>11.962354</td>\n",
              "      <td>265.813159</td>\n",
              "    </tr>\n",
              "    <tr>\n",
              "      <th>True</th>\n",
              "      <td>160.971264</td>\n",
              "      <td>4.814160</td>\n",
              "      <td>14.629844</td>\n",
              "      <td>15.725886</td>\n",
              "      <td>1560.113779</td>\n",
              "      <td>661.854169</td>\n",
              "      <td>11.638565</td>\n",
              "      <td>292.561569</td>\n",
              "    </tr>\n",
              "  </tbody>\n",
              "</table>\n",
              "</div>"
            ],
            "text/plain": [
              "                  ride_id_count ride_distance_miles_mean  \\\n",
              "                           mean                     mean   \n",
              "driver_churn_flag                                          \n",
              "False                235.592760                 4.551973   \n",
              "True                 160.971264                 4.814160   \n",
              "\n",
              "                  ride_duration_minutes_mean ride_prime_time_mean  \\\n",
              "                                        mean                 mean   \n",
              "driver_churn_flag                                                   \n",
              "False                              14.441505            15.754629   \n",
              "True                               14.629844            15.725886   \n",
              "\n",
              "                  driver_earning_sum lyft_earning_sum  \\\n",
              "                                mean             mean   \n",
              "driver_churn_flag                                       \n",
              "False                    2279.081470       967.484107   \n",
              "True                     1560.113779       661.854169   \n",
              "\n",
              "                  requested_accepted_gap_sec_mean  \\\n",
              "                                             mean   \n",
              "driver_churn_flag                                   \n",
              "False                                   11.962354   \n",
              "True                                    11.638565   \n",
              "\n",
              "                  accepted_arrived_gap_sec_mean  \n",
              "                                           mean  \n",
              "driver_churn_flag                                \n",
              "False                                265.813159  \n",
              "True                                 292.561569  "
            ]
          },
          "execution_count": 52,
          "metadata": {},
          "output_type": "execute_result"
        }
      ],
      "source": [
        "training_data2 = df_driver_summary[['driver_churn_flag','ride_id_count','ride_distance_miles_mean','ride_duration_minutes_mean','ride_prime_time_mean','driver_earning_sum','lyft_earning_sum','requested_accepted_gap_sec_mean','accepted_arrived_gap_sec_mean']].groupby(['driver_churn_flag']).agg({'ride_id_count':['count'],'ride_id_count':['mean'],'ride_distance_miles_mean':['mean'],'ride_duration_minutes_mean':['mean'],'ride_prime_time_mean':['mean'],'driver_earning_sum':['mean'],'lyft_earning_sum':['mean'],'requested_accepted_gap_sec_mean':['mean'],'accepted_arrived_gap_sec_mean':['mean']})\n",
        "training_data2"
      ]
    },
    {
      "cell_type": "markdown",
      "metadata": {
        "id": "tdTslkrv8hNp"
      },
      "source": [
        "## c) Driver Segmentation##"
      ]
    },
    {
      "cell_type": "code",
      "execution_count": null,
      "metadata": {
        "id": "LYlDYhvI8hNp"
      },
      "outputs": [],
      "source": [
        "training_data = df_summ_driver\n",
        "training_data = training_data.drop(['driver_id','dropped_off_at_max','driver_onboard_date_max'],axis=1)"
      ]
    },
    {
      "cell_type": "code",
      "execution_count": null,
      "metadata": {
        "id": "dE9LoECo8hNp",
        "outputId": "52b25aba-80e0-461a-e6c9-43bf4743ae52"
      },
      "outputs": [
        {
          "data": {
            "text/plain": [
              "ride_id_count                       220.080048\n",
              "ride_distance_miles_mean              4.606478\n",
              "ride_duration_minutes_mean           14.480658\n",
              "ride_prime_time_mean                 15.748653\n",
              "driver_earning_sum                 2129.618653\n",
              "lyft_earning_sum                    903.948134\n",
              "requested_accepted_gap_sec_mean      11.895043\n",
              "accepted_arrived_gap_sec_mean       271.373761\n",
              "dtype: float64"
            ]
          },
          "execution_count": 56,
          "metadata": {},
          "output_type": "execute_result"
        }
      ],
      "source": [
        "# Getting statistics for a average driver\n",
        "training_data.mean()"
      ]
    },
    {
      "cell_type": "code",
      "execution_count": null,
      "metadata": {
        "id": "IvlWgRpy8hNp"
      },
      "outputs": [],
      "source": [
        "X = np.array(training_data.astype(float))"
      ]
    },
    {
      "cell_type": "code",
      "execution_count": null,
      "metadata": {
        "id": "-9GVjLkH8hNq"
      },
      "outputs": [],
      "source": [
        "kmeans = KMeans(n_clusters = 3)\n",
        "kmeans = kmeans.fit(X)\n",
        "training_data['label'] = kmeans.predict(X)"
      ]
    },
    {
      "cell_type": "code",
      "execution_count": null,
      "metadata": {
        "scrolled": true,
        "id": "HWo_j7Oo8hNq"
      },
      "outputs": [],
      "source": [
        "# Grouping by each cluster group\n",
        "training_data1 = training_data[['label','ride_id_count','ride_distance_miles_mean','ride_duration_minutes_mean','ride_prime_time_mean','driver_earning_sum','lyft_earning_sum','requested_accepted_gap_sec_mean','accepted_arrived_gap_sec_mean']].groupby(['label']).agg({'ride_id_count':['count'],'ride_id_count':['mean'],'ride_distance_miles_mean':['mean'],'ride_duration_minutes_mean':['mean'],'ride_prime_time_mean':['mean'],'driver_earning_sum':['mean'],'lyft_earning_sum':['mean'],'requested_accepted_gap_sec_mean':['mean'],'accepted_arrived_gap_sec_mean':['mean']})\n",
        "training_data1.columns = training_data1.columns.droplevel(1)\n",
        "training_data1.reset_index(inplace=True)"
      ]
    },
    {
      "cell_type": "code",
      "execution_count": null,
      "metadata": {
        "id": "cYf2NOsW8hNq",
        "outputId": "6b690f9a-7bff-4ffa-cae8-3e8890b1d35e"
      },
      "outputs": [
        {
          "data": {
            "text/html": [
              "<div>\n",
              "<style scoped>\n",
              "    .dataframe tbody tr th:only-of-type {\n",
              "        vertical-align: middle;\n",
              "    }\n",
              "\n",
              "    .dataframe tbody tr th {\n",
              "        vertical-align: top;\n",
              "    }\n",
              "\n",
              "    .dataframe thead th {\n",
              "        text-align: right;\n",
              "    }\n",
              "</style>\n",
              "<table border=\"1\" class=\"dataframe\">\n",
              "  <thead>\n",
              "    <tr style=\"text-align: right;\">\n",
              "      <th></th>\n",
              "      <th>label</th>\n",
              "      <th>ride_id_count</th>\n",
              "      <th>ride_distance_miles_mean</th>\n",
              "      <th>ride_duration_minutes_mean</th>\n",
              "      <th>ride_prime_time_mean</th>\n",
              "      <th>driver_earning_sum</th>\n",
              "      <th>lyft_earning_sum</th>\n",
              "      <th>requested_accepted_gap_sec_mean</th>\n",
              "      <th>accepted_arrived_gap_sec_mean</th>\n",
              "    </tr>\n",
              "  </thead>\n",
              "  <tbody>\n",
              "    <tr>\n",
              "      <th>0</th>\n",
              "      <td>0</td>\n",
              "      <td>510.268116</td>\n",
              "      <td>4.550998</td>\n",
              "      <td>14.729228</td>\n",
              "      <td>17.613337</td>\n",
              "      <td>4997.848527</td>\n",
              "      <td>2111.215963</td>\n",
              "      <td>11.689711</td>\n",
              "      <td>243.931139</td>\n",
              "    </tr>\n",
              "    <tr>\n",
              "      <th>1</th>\n",
              "      <td>1</td>\n",
              "      <td>43.804665</td>\n",
              "      <td>4.906716</td>\n",
              "      <td>14.514543</td>\n",
              "      <td>13.787591</td>\n",
              "      <td>438.271440</td>\n",
              "      <td>183.469735</td>\n",
              "      <td>12.124810</td>\n",
              "      <td>302.741180</td>\n",
              "    </tr>\n",
              "    <tr>\n",
              "      <th>2</th>\n",
              "      <td>2</td>\n",
              "      <td>277.429775</td>\n",
              "      <td>4.338709</td>\n",
              "      <td>14.351655</td>\n",
              "      <td>16.915277</td>\n",
              "      <td>2647.361269</td>\n",
              "      <td>1130.131085</td>\n",
              "      <td>11.753260</td>\n",
              "      <td>251.789650</td>\n",
              "    </tr>\n",
              "  </tbody>\n",
              "</table>\n",
              "</div>"
            ],
            "text/plain": [
              "   label  ride_id_count  ride_distance_miles_mean  ride_duration_minutes_mean  \\\n",
              "0      0     510.268116                  4.550998                   14.729228   \n",
              "1      1      43.804665                  4.906716                   14.514543   \n",
              "2      2     277.429775                  4.338709                   14.351655   \n",
              "\n",
              "   ride_prime_time_mean  driver_earning_sum  lyft_earning_sum  \\\n",
              "0             17.613337         4997.848527       2111.215963   \n",
              "1             13.787591          438.271440        183.469735   \n",
              "2             16.915277         2647.361269       1130.131085   \n",
              "\n",
              "   requested_accepted_gap_sec_mean  accepted_arrived_gap_sec_mean  \n",
              "0                        11.689711                     243.931139  \n",
              "1                        12.124810                     302.741180  \n",
              "2                        11.753260                     251.789650  "
            ]
          },
          "execution_count": 60,
          "metadata": {},
          "output_type": "execute_result"
        }
      ],
      "source": [
        "# Getting statistics for a segmented driver\n",
        "training_data1"
      ]
    },
    {
      "cell_type": "code",
      "execution_count": null,
      "metadata": {
        "scrolled": true,
        "id": "P0kFPJ998hNq",
        "outputId": "ca993116-d6e9-490b-eef8-80426a89afa9"
      },
      "outputs": [
        {
          "data": {
            "text/html": [
              "<div>\n",
              "<style scoped>\n",
              "    .dataframe tbody tr th:only-of-type {\n",
              "        vertical-align: middle;\n",
              "    }\n",
              "\n",
              "    .dataframe tbody tr th {\n",
              "        vertical-align: top;\n",
              "    }\n",
              "\n",
              "    .dataframe thead th {\n",
              "        text-align: right;\n",
              "    }\n",
              "</style>\n",
              "<table border=\"1\" class=\"dataframe\">\n",
              "  <thead>\n",
              "    <tr style=\"text-align: right;\">\n",
              "      <th></th>\n",
              "      <th>ride_id_count</th>\n",
              "      <th>ride_distance_miles_mean</th>\n",
              "      <th>ride_duration_minutes_mean</th>\n",
              "      <th>ride_prime_time_mean</th>\n",
              "      <th>driver_earning_sum</th>\n",
              "      <th>lyft_earning_sum</th>\n",
              "      <th>requested_accepted_gap_sec_mean</th>\n",
              "      <th>accepted_arrived_gap_sec_mean</th>\n",
              "    </tr>\n",
              "    <tr>\n",
              "      <th>label</th>\n",
              "      <th></th>\n",
              "      <th></th>\n",
              "      <th></th>\n",
              "      <th></th>\n",
              "      <th></th>\n",
              "      <th></th>\n",
              "      <th></th>\n",
              "      <th></th>\n",
              "    </tr>\n",
              "  </thead>\n",
              "  <tbody>\n",
              "    <tr>\n",
              "      <th>0</th>\n",
              "      <td>138</td>\n",
              "      <td>138</td>\n",
              "      <td>138</td>\n",
              "      <td>138</td>\n",
              "      <td>138</td>\n",
              "      <td>138</td>\n",
              "      <td>138</td>\n",
              "      <td>138</td>\n",
              "    </tr>\n",
              "    <tr>\n",
              "      <th>1</th>\n",
              "      <td>343</td>\n",
              "      <td>343</td>\n",
              "      <td>343</td>\n",
              "      <td>343</td>\n",
              "      <td>343</td>\n",
              "      <td>343</td>\n",
              "      <td>343</td>\n",
              "      <td>343</td>\n",
              "    </tr>\n",
              "    <tr>\n",
              "      <th>2</th>\n",
              "      <td>356</td>\n",
              "      <td>356</td>\n",
              "      <td>356</td>\n",
              "      <td>356</td>\n",
              "      <td>356</td>\n",
              "      <td>356</td>\n",
              "      <td>356</td>\n",
              "      <td>356</td>\n",
              "    </tr>\n",
              "  </tbody>\n",
              "</table>\n",
              "</div>"
            ],
            "text/plain": [
              "       ride_id_count  ride_distance_miles_mean  ride_duration_minutes_mean  \\\n",
              "label                                                                        \n",
              "0                138                       138                         138   \n",
              "1                343                       343                         343   \n",
              "2                356                       356                         356   \n",
              "\n",
              "       ride_prime_time_mean  driver_earning_sum  lyft_earning_sum  \\\n",
              "label                                                               \n",
              "0                       138                 138               138   \n",
              "1                       343                 343               343   \n",
              "2                       356                 356               356   \n",
              "\n",
              "       requested_accepted_gap_sec_mean  accepted_arrived_gap_sec_mean  \n",
              "label                                                                  \n",
              "0                                  138                            138  \n",
              "1                                  343                            343  \n",
              "2                                  356                            356  "
            ]
          },
          "execution_count": 61,
          "metadata": {},
          "output_type": "execute_result"
        }
      ],
      "source": [
        "training_data.groupby('label').count()"
      ]
    },
    {
      "cell_type": "markdown",
      "metadata": {
        "id": "nzNPkLmT8hNq"
      },
      "source": [
        "## The End##"
      ]
    }
  ],
  "metadata": {
    "kernelspec": {
      "display_name": "Python 3",
      "language": "python",
      "name": "python3"
    },
    "language_info": {
      "codemirror_mode": {
        "name": "ipython",
        "version": 3
      },
      "file_extension": ".py",
      "mimetype": "text/x-python",
      "name": "python",
      "nbconvert_exporter": "python",
      "pygments_lexer": "ipython3",
      "version": "3.6.5"
    },
    "colab": {
      "provenance": []
    }
  },
  "nbformat": 4,
  "nbformat_minor": 0
}